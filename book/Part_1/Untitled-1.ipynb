{
 "cells": [
  {
   "cell_type": "code",
   "execution_count": 7,
   "metadata": {},
   "outputs": [
    {
     "name": "stdout",
     "output_type": "stream",
     "text": [
      "<class 'pandas.core.frame.DataFrame'>\n",
      "Index: 39309 entries, 1901-02-01 to 2024-02-06\n",
      "Data columns (total 23 columns):\n",
      " #   Column                                             Non-Null Count  Dtype  \n",
      "---  ------                                             --------------  -----  \n",
      " 0   Regional: Air temperature [C]                      39309 non-null  float64\n",
      " 1   Days until break up                                39309 non-null  float64\n",
      " 2   Nenana: Rainfall [mm]                              39309 non-null  float64\n",
      " 3   Nenana: Snowfall [mm]                              39309 non-null  float64\n",
      " 4   Nenana: Snow depth [mm]                            39309 non-null  float64\n",
      " 5   Nenana: Mean water temperature [C]                 39309 non-null  float64\n",
      " 6   Nenana: Mean Discharge [m3/s]                      39309 non-null  float64\n",
      " 7   Nenana: Air temperature [C]                        39309 non-null  float64\n",
      " 8   Fairbanks: Average wind speed [m/s]                39309 non-null  float64\n",
      " 9   Fairbanks: Rainfall [mm]                           39309 non-null  float64\n",
      " 10  Fairbanks: Snowfall [mm]                           39309 non-null  float64\n",
      " 11  Fairbanks: Snow depth [mm]                         39309 non-null  float64\n",
      " 12  Fairbanks: Air Temperature [C]                     39309 non-null  float64\n",
      " 13  IceThickness [cm]                                  39309 non-null  float64\n",
      " 14  Regional: Solar Surface Irradiance [W/m2]          39309 non-null  float64\n",
      " 15  Regional: Cloud coverage [%]                       39309 non-null  float64\n",
      " 16  Global: ENSO-Southern oscillation index            39309 non-null  float64\n",
      " 17   Gulkana Temperature [C]                           39309 non-null  float64\n",
      " 18  Gulkana Precipitation [mm]                         39309 non-null  float64\n",
      " 19  Gulkana: Glacier-wide winter mass balance [m.w.e]  39309 non-null  float64\n",
      " 20  Gulkana: Glacier-wide summer mass balance [m.w.e]  39309 non-null  float64\n",
      " 21  Global: Pacific decadal oscillation index          39309 non-null  float64\n",
      " 22  Global: Artic oscillation index                    39309 non-null  float64\n",
      "dtypes: float64(23)\n",
      "memory usage: 7.2+ MB\n",
      "Data saved to merged_data.txt\n"
     ]
    }
   ],
   "source": [
    "from importlib import reload\n",
    "from funciones import*\n",
    "\n",
    "# Data=pd.read_csv(\"../../data/Time_series_DATA.txt\",skiprows=149,index_col=0)\n",
    "file3=import_data_browser('https://raw.githubusercontent.com/iceclassic/mude/develop_1/data/Time_series_DATA.txt')\n",
    "Data=pd.read_csv(file3,skiprows=149,index_col=0)\n",
    "Data.index = Data.index.astype(str).str.split().str[0]\n",
    "Data.index = pd.to_datetime(Data.index, format=\"%Y-%m-%d\")\n",
    "\n",
    "Data=Data.drop(columns=['Days since start of year','Predicted ice thickness [m]','Noisy predicted ice thickness [m]'])\n",
    "df_grouped = Data.groupby(Data.index.date)\n",
    "df_merged = df_grouped.sum()\n",
    "df_merged.info()\n",
    "\n",
    "file_path = 'merged_data.txt'\n",
    "\n",
    "# Save the DataFrame to a txt file (tab-separated)\n",
    "df_merged.to_csv(file_path, sep='\\t', index=True)\n",
    "\n",
    "print(f'Data saved to {file_path}')"
   ]
  },
  {
   "cell_type": "code",
   "execution_count": null,
   "metadata": {},
   "outputs": [],
   "source": []
  }
 ],
 "metadata": {
  "kernelspec": {
   "display_name": "iceclassic",
   "language": "python",
   "name": "python3"
  },
  "language_info": {
   "codemirror_mode": {
    "name": "ipython",
    "version": 3
   },
   "file_extension": ".py",
   "mimetype": "text/x-python",
   "name": "python",
   "nbconvert_exporter": "python",
   "pygments_lexer": "ipython3",
   "version": "3.11.9"
  }
 },
 "nbformat": 4,
 "nbformat_minor": 2
}
