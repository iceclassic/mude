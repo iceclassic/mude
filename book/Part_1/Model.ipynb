{
 "cells": [
  {
   "cell_type": "markdown",
   "metadata": {},
   "source": [
    "# Geographical Context"
   ]
  },
  {
   "cell_type": "markdown",
   "metadata": {},
   "source": []
  },
  {
   "cell_type": "code",
   "execution_count": 69,
   "metadata": {},
   "outputs": [
    {
     "data": {
      "application/vnd.plotly.v1+json": {
       "config": {
        "plotlyServerURL": "https://plot.ly"
       },
       "data": [
        {
         "hoverinfo": "text",
         "lat": [
          64.56702898502982
         ],
         "lon": [
          -149.0815700675435
         ],
         "marker": {
          "color": "purple",
          "opacity": 0.8,
          "size": 10
         },
         "mode": "markers",
         "name": "Ice classic tripod",
         "text": [
          "NENANA tripod"
         ],
         "type": "scattermapbox"
        },
        {
         "hoverinfo": "text",
         "lat": [
          64.54725
         ],
         "lon": [
          -149.08713
         ],
         "marker": {
          "color": "red",
          "opacity": 0.8,
          "size": 10
         },
         "mode": "markers",
         "name": "Nenana Weather Station",
         "text": [
          "USGS Weather Station USW00026435"
         ],
         "type": "scattermapbox"
        },
        {
         "hoverinfo": "text",
         "lat": [
          64.80309
         ],
         "lon": [
          -147.87606
         ],
         "marker": {
          "color": "red",
          "opacity": 0.8,
          "size": 10
         },
         "mode": "markers",
         "name": "Fairbanks Weather Station",
         "text": [
          "USGS Weather Station USW00026411"
         ],
         "type": "scattermapbox"
        },
        {
         "fill": "toself",
         "fillcolor": "rgba(255, 239,0, 0.1)",
         "hoverinfo": "text",
         "lat": [
          64,
          64,
          65,
          65,
          64
         ],
         "line": {
          "color": "yellow"
         },
         "lon": [
          -150,
          -149,
          -149,
          -150,
          -150
         ],
         "mode": "lines",
         "name": "Temperature",
         "text": "Berkeley Earth Global",
         "type": "scattermapbox"
        },
        {
         "hoverinfo": "text",
         "lat": [
          63.2818
         ],
         "lon": [
          -145.426
         ],
         "marker": {
          "color": "blue",
          "opacity": 0.8,
          "size": 10
         },
         "mode": "markers",
         "name": "Gulkana  Glacier",
         "text": "USGS  Weather Station  15485500",
         "type": "scattermapbox"
        },
        {
         "hoverinfo": "text",
         "lat": [
          64.5649444
         ],
         "lon": [
          -149.094
         ],
         "marker": {
          "color": "green",
          "opacity": 0.8,
          "size": 10
         },
         "mode": "markers",
         "name": "Tenana R at Nenana",
         "text": "USGS  Weather Station 15515500",
         "type": "scattermapbox"
        },
        {
         "hoverinfo": "text",
         "lat": [
          64.792344
         ],
         "lon": [
          -147.8413097
         ],
         "marker": {
          "color": "green",
          "opacity": 0.8,
          "size": 10
         },
         "mode": "markers",
         "name": "Tenana R at Fairbanks",
         "text": "USGS  Weather Station 15515500",
         "type": "scattermapbox"
        },
        {
         "fill": "toself",
         "fillcolor": "rgba(255, 20,147, 0.01)",
         "hoverinfo": "text",
         "lat": [
          64,
          64,
          66,
          66,
          64
         ],
         "line": {
          "color": "pink"
         },
         "lon": [
          -151,
          -149,
          -149,
          -151,
          -151
         ],
         "mode": "lines",
         "name": "Solar Radiation and Cloud Coverage",
         "text": "TEMIS & NERC-EDS",
         "type": "scattermapbox"
        },
        {
         "lat": [],
         "lon": [],
         "marker": {
          "opacity": 0
         },
         "mode": "markers",
         "type": "scattermapbox"
        }
       ],
       "layout": {
        "mapbox": {
         "center": {
          "lat": 64.56702898502982,
          "lon": -149.0815700675435
         },
         "style": "open-street-map",
         "zoom": 5
        },
        "margin": {
         "b": 0,
         "l": 0,
         "r": 0,
         "t": 0
        },
        "template": {
         "data": {
          "bar": [
           {
            "error_x": {
             "color": "#2a3f5f"
            },
            "error_y": {
             "color": "#2a3f5f"
            },
            "marker": {
             "line": {
              "color": "#E5ECF6",
              "width": 0.5
             },
             "pattern": {
              "fillmode": "overlay",
              "size": 10,
              "solidity": 0.2
             }
            },
            "type": "bar"
           }
          ],
          "barpolar": [
           {
            "marker": {
             "line": {
              "color": "#E5ECF6",
              "width": 0.5
             },
             "pattern": {
              "fillmode": "overlay",
              "size": 10,
              "solidity": 0.2
             }
            },
            "type": "barpolar"
           }
          ],
          "carpet": [
           {
            "aaxis": {
             "endlinecolor": "#2a3f5f",
             "gridcolor": "white",
             "linecolor": "white",
             "minorgridcolor": "white",
             "startlinecolor": "#2a3f5f"
            },
            "baxis": {
             "endlinecolor": "#2a3f5f",
             "gridcolor": "white",
             "linecolor": "white",
             "minorgridcolor": "white",
             "startlinecolor": "#2a3f5f"
            },
            "type": "carpet"
           }
          ],
          "choropleth": [
           {
            "colorbar": {
             "outlinewidth": 0,
             "ticks": ""
            },
            "type": "choropleth"
           }
          ],
          "contour": [
           {
            "colorbar": {
             "outlinewidth": 0,
             "ticks": ""
            },
            "colorscale": [
             [
              0,
              "#0d0887"
             ],
             [
              0.1111111111111111,
              "#46039f"
             ],
             [
              0.2222222222222222,
              "#7201a8"
             ],
             [
              0.3333333333333333,
              "#9c179e"
             ],
             [
              0.4444444444444444,
              "#bd3786"
             ],
             [
              0.5555555555555556,
              "#d8576b"
             ],
             [
              0.6666666666666666,
              "#ed7953"
             ],
             [
              0.7777777777777778,
              "#fb9f3a"
             ],
             [
              0.8888888888888888,
              "#fdca26"
             ],
             [
              1,
              "#f0f921"
             ]
            ],
            "type": "contour"
           }
          ],
          "contourcarpet": [
           {
            "colorbar": {
             "outlinewidth": 0,
             "ticks": ""
            },
            "type": "contourcarpet"
           }
          ],
          "heatmap": [
           {
            "colorbar": {
             "outlinewidth": 0,
             "ticks": ""
            },
            "colorscale": [
             [
              0,
              "#0d0887"
             ],
             [
              0.1111111111111111,
              "#46039f"
             ],
             [
              0.2222222222222222,
              "#7201a8"
             ],
             [
              0.3333333333333333,
              "#9c179e"
             ],
             [
              0.4444444444444444,
              "#bd3786"
             ],
             [
              0.5555555555555556,
              "#d8576b"
             ],
             [
              0.6666666666666666,
              "#ed7953"
             ],
             [
              0.7777777777777778,
              "#fb9f3a"
             ],
             [
              0.8888888888888888,
              "#fdca26"
             ],
             [
              1,
              "#f0f921"
             ]
            ],
            "type": "heatmap"
           }
          ],
          "heatmapgl": [
           {
            "colorbar": {
             "outlinewidth": 0,
             "ticks": ""
            },
            "colorscale": [
             [
              0,
              "#0d0887"
             ],
             [
              0.1111111111111111,
              "#46039f"
             ],
             [
              0.2222222222222222,
              "#7201a8"
             ],
             [
              0.3333333333333333,
              "#9c179e"
             ],
             [
              0.4444444444444444,
              "#bd3786"
             ],
             [
              0.5555555555555556,
              "#d8576b"
             ],
             [
              0.6666666666666666,
              "#ed7953"
             ],
             [
              0.7777777777777778,
              "#fb9f3a"
             ],
             [
              0.8888888888888888,
              "#fdca26"
             ],
             [
              1,
              "#f0f921"
             ]
            ],
            "type": "heatmapgl"
           }
          ],
          "histogram": [
           {
            "marker": {
             "pattern": {
              "fillmode": "overlay",
              "size": 10,
              "solidity": 0.2
             }
            },
            "type": "histogram"
           }
          ],
          "histogram2d": [
           {
            "colorbar": {
             "outlinewidth": 0,
             "ticks": ""
            },
            "colorscale": [
             [
              0,
              "#0d0887"
             ],
             [
              0.1111111111111111,
              "#46039f"
             ],
             [
              0.2222222222222222,
              "#7201a8"
             ],
             [
              0.3333333333333333,
              "#9c179e"
             ],
             [
              0.4444444444444444,
              "#bd3786"
             ],
             [
              0.5555555555555556,
              "#d8576b"
             ],
             [
              0.6666666666666666,
              "#ed7953"
             ],
             [
              0.7777777777777778,
              "#fb9f3a"
             ],
             [
              0.8888888888888888,
              "#fdca26"
             ],
             [
              1,
              "#f0f921"
             ]
            ],
            "type": "histogram2d"
           }
          ],
          "histogram2dcontour": [
           {
            "colorbar": {
             "outlinewidth": 0,
             "ticks": ""
            },
            "colorscale": [
             [
              0,
              "#0d0887"
             ],
             [
              0.1111111111111111,
              "#46039f"
             ],
             [
              0.2222222222222222,
              "#7201a8"
             ],
             [
              0.3333333333333333,
              "#9c179e"
             ],
             [
              0.4444444444444444,
              "#bd3786"
             ],
             [
              0.5555555555555556,
              "#d8576b"
             ],
             [
              0.6666666666666666,
              "#ed7953"
             ],
             [
              0.7777777777777778,
              "#fb9f3a"
             ],
             [
              0.8888888888888888,
              "#fdca26"
             ],
             [
              1,
              "#f0f921"
             ]
            ],
            "type": "histogram2dcontour"
           }
          ],
          "mesh3d": [
           {
            "colorbar": {
             "outlinewidth": 0,
             "ticks": ""
            },
            "type": "mesh3d"
           }
          ],
          "parcoords": [
           {
            "line": {
             "colorbar": {
              "outlinewidth": 0,
              "ticks": ""
             }
            },
            "type": "parcoords"
           }
          ],
          "pie": [
           {
            "automargin": true,
            "type": "pie"
           }
          ],
          "scatter": [
           {
            "fillpattern": {
             "fillmode": "overlay",
             "size": 10,
             "solidity": 0.2
            },
            "type": "scatter"
           }
          ],
          "scatter3d": [
           {
            "line": {
             "colorbar": {
              "outlinewidth": 0,
              "ticks": ""
             }
            },
            "marker": {
             "colorbar": {
              "outlinewidth": 0,
              "ticks": ""
             }
            },
            "type": "scatter3d"
           }
          ],
          "scattercarpet": [
           {
            "marker": {
             "colorbar": {
              "outlinewidth": 0,
              "ticks": ""
             }
            },
            "type": "scattercarpet"
           }
          ],
          "scattergeo": [
           {
            "marker": {
             "colorbar": {
              "outlinewidth": 0,
              "ticks": ""
             }
            },
            "type": "scattergeo"
           }
          ],
          "scattergl": [
           {
            "marker": {
             "colorbar": {
              "outlinewidth": 0,
              "ticks": ""
             }
            },
            "type": "scattergl"
           }
          ],
          "scattermapbox": [
           {
            "marker": {
             "colorbar": {
              "outlinewidth": 0,
              "ticks": ""
             }
            },
            "type": "scattermapbox"
           }
          ],
          "scatterpolar": [
           {
            "marker": {
             "colorbar": {
              "outlinewidth": 0,
              "ticks": ""
             }
            },
            "type": "scatterpolar"
           }
          ],
          "scatterpolargl": [
           {
            "marker": {
             "colorbar": {
              "outlinewidth": 0,
              "ticks": ""
             }
            },
            "type": "scatterpolargl"
           }
          ],
          "scatterternary": [
           {
            "marker": {
             "colorbar": {
              "outlinewidth": 0,
              "ticks": ""
             }
            },
            "type": "scatterternary"
           }
          ],
          "surface": [
           {
            "colorbar": {
             "outlinewidth": 0,
             "ticks": ""
            },
            "colorscale": [
             [
              0,
              "#0d0887"
             ],
             [
              0.1111111111111111,
              "#46039f"
             ],
             [
              0.2222222222222222,
              "#7201a8"
             ],
             [
              0.3333333333333333,
              "#9c179e"
             ],
             [
              0.4444444444444444,
              "#bd3786"
             ],
             [
              0.5555555555555556,
              "#d8576b"
             ],
             [
              0.6666666666666666,
              "#ed7953"
             ],
             [
              0.7777777777777778,
              "#fb9f3a"
             ],
             [
              0.8888888888888888,
              "#fdca26"
             ],
             [
              1,
              "#f0f921"
             ]
            ],
            "type": "surface"
           }
          ],
          "table": [
           {
            "cells": {
             "fill": {
              "color": "#EBF0F8"
             },
             "line": {
              "color": "white"
             }
            },
            "header": {
             "fill": {
              "color": "#C8D4E3"
             },
             "line": {
              "color": "white"
             }
            },
            "type": "table"
           }
          ]
         },
         "layout": {
          "annotationdefaults": {
           "arrowcolor": "#2a3f5f",
           "arrowhead": 0,
           "arrowwidth": 1
          },
          "autotypenumbers": "strict",
          "coloraxis": {
           "colorbar": {
            "outlinewidth": 0,
            "ticks": ""
           }
          },
          "colorscale": {
           "diverging": [
            [
             0,
             "#8e0152"
            ],
            [
             0.1,
             "#c51b7d"
            ],
            [
             0.2,
             "#de77ae"
            ],
            [
             0.3,
             "#f1b6da"
            ],
            [
             0.4,
             "#fde0ef"
            ],
            [
             0.5,
             "#f7f7f7"
            ],
            [
             0.6,
             "#e6f5d0"
            ],
            [
             0.7,
             "#b8e186"
            ],
            [
             0.8,
             "#7fbc41"
            ],
            [
             0.9,
             "#4d9221"
            ],
            [
             1,
             "#276419"
            ]
           ],
           "sequential": [
            [
             0,
             "#0d0887"
            ],
            [
             0.1111111111111111,
             "#46039f"
            ],
            [
             0.2222222222222222,
             "#7201a8"
            ],
            [
             0.3333333333333333,
             "#9c179e"
            ],
            [
             0.4444444444444444,
             "#bd3786"
            ],
            [
             0.5555555555555556,
             "#d8576b"
            ],
            [
             0.6666666666666666,
             "#ed7953"
            ],
            [
             0.7777777777777778,
             "#fb9f3a"
            ],
            [
             0.8888888888888888,
             "#fdca26"
            ],
            [
             1,
             "#f0f921"
            ]
           ],
           "sequentialminus": [
            [
             0,
             "#0d0887"
            ],
            [
             0.1111111111111111,
             "#46039f"
            ],
            [
             0.2222222222222222,
             "#7201a8"
            ],
            [
             0.3333333333333333,
             "#9c179e"
            ],
            [
             0.4444444444444444,
             "#bd3786"
            ],
            [
             0.5555555555555556,
             "#d8576b"
            ],
            [
             0.6666666666666666,
             "#ed7953"
            ],
            [
             0.7777777777777778,
             "#fb9f3a"
            ],
            [
             0.8888888888888888,
             "#fdca26"
            ],
            [
             1,
             "#f0f921"
            ]
           ]
          },
          "colorway": [
           "#636efa",
           "#EF553B",
           "#00cc96",
           "#ab63fa",
           "#FFA15A",
           "#19d3f3",
           "#FF6692",
           "#B6E880",
           "#FF97FF",
           "#FECB52"
          ],
          "font": {
           "color": "#2a3f5f"
          },
          "geo": {
           "bgcolor": "white",
           "lakecolor": "white",
           "landcolor": "#E5ECF6",
           "showlakes": true,
           "showland": true,
           "subunitcolor": "white"
          },
          "hoverlabel": {
           "align": "left"
          },
          "hovermode": "closest",
          "mapbox": {
           "style": "light"
          },
          "paper_bgcolor": "white",
          "plot_bgcolor": "#E5ECF6",
          "polar": {
           "angularaxis": {
            "gridcolor": "white",
            "linecolor": "white",
            "ticks": ""
           },
           "bgcolor": "#E5ECF6",
           "radialaxis": {
            "gridcolor": "white",
            "linecolor": "white",
            "ticks": ""
           }
          },
          "scene": {
           "xaxis": {
            "backgroundcolor": "#E5ECF6",
            "gridcolor": "white",
            "gridwidth": 2,
            "linecolor": "white",
            "showbackground": true,
            "ticks": "",
            "zerolinecolor": "white"
           },
           "yaxis": {
            "backgroundcolor": "#E5ECF6",
            "gridcolor": "white",
            "gridwidth": 2,
            "linecolor": "white",
            "showbackground": true,
            "ticks": "",
            "zerolinecolor": "white"
           },
           "zaxis": {
            "backgroundcolor": "#E5ECF6",
            "gridcolor": "white",
            "gridwidth": 2,
            "linecolor": "white",
            "showbackground": true,
            "ticks": "",
            "zerolinecolor": "white"
           }
          },
          "shapedefaults": {
           "line": {
            "color": "#2a3f5f"
           }
          },
          "ternary": {
           "aaxis": {
            "gridcolor": "white",
            "linecolor": "white",
            "ticks": ""
           },
           "baxis": {
            "gridcolor": "white",
            "linecolor": "white",
            "ticks": ""
           },
           "bgcolor": "#E5ECF6",
           "caxis": {
            "gridcolor": "white",
            "linecolor": "white",
            "ticks": ""
           }
          },
          "title": {
           "x": 0.05
          },
          "xaxis": {
           "automargin": true,
           "gridcolor": "white",
           "linecolor": "white",
           "ticks": "",
           "title": {
            "standoff": 15
           },
           "zerolinecolor": "white",
           "zerolinewidth": 2
          },
          "yaxis": {
           "automargin": true,
           "gridcolor": "white",
           "linecolor": "white",
           "ticks": "",
           "title": {
            "standoff": 15
           },
           "zerolinecolor": "white",
           "zerolinewidth": 2
          }
         }
        }
       }
      }
     },
     "metadata": {},
     "output_type": "display_data"
    }
   ],
   "source": [
    "import plotly.express as px\n",
    "import plotly.graph_objects as go\n",
    "import geopandas as gpd\n",
    "\n",
    "# Define click event handler\n",
    "def click_callback(trace, points, selector):\n",
    "    if points:\n",
    "        lat = points.xs[0]\n",
    "        lon = points.ys[0]\n",
    "        print(f\"Latitude: {lat}, Longitude: {lon}\")\n",
    "\n",
    "# Latitude and longitude coordinates for Nenana, Alaska\n",
    "nenana_lat = 64.56702898502982\n",
    "nenana_lon = -149.0815700675435\n",
    "\n",
    "USW00026435_NENANA_LAT=64.54725\n",
    "USW00026435_NENANA_LOG=\t-149.08713\n",
    "\n",
    "USW00026435_Fairbanks_LAT=64.80309\n",
    "USW00026435_Fairbanks_LOG=\t-147.87606\n",
    "\n",
    "square_lat = [64, 64, 65, 65,64]  # Latitude of vertices\n",
    "square_lon = [-150, -149, -149, -150,-150]  # Longitude of vertices\n",
    "\n",
    "gulkana_lat= 63.2818\n",
    "gulkana_lon=-145.426 \n",
    "\n",
    "usgs_tenana_river_lat=64.5649444\n",
    "usgs_tenana_river_lon=-149.094 \n",
    "\n",
    "usgs_tenana_fairbanks_lat=64.792344 \n",
    "usgs_tenana_fairbanks_lon=-147.8413097 \n",
    "\n",
    "square_lat_w = [64, 64, 66, 66,64]  # Latitude of vertices\n",
    "square_lon_w = [-151, -149, -149, -151,-151]  # Longitude of vertices\n",
    "\n",
    "# Initialize Plotly figure with initial zoom level and center coordinates\n",
    "fig = go.Figure()\n",
    "\n",
    "# Add marker at Nenana coordinates\n",
    "fig.add_trace(go.Scattermapbox(\n",
    "    lat=[nenana_lat],\n",
    "    lon=[nenana_lon],\n",
    "    mode='markers',\n",
    "    marker=dict(\n",
    "        size=10,\n",
    "        color='purple',\n",
    "        opacity=0.8  # Increase opacity\n",
    "    ),\n",
    "    text=[\"NENANA tripod\"],  # Text label for the marker\n",
    "    hoverinfo=\"text\" , # Only show text on hover\n",
    "    name=\"Ice classic tripod\"\n",
    "))\n",
    "fig.add_trace(go.Scattermapbox(\n",
    "    lat=[USW00026435_NENANA_LAT],\n",
    "    lon=[USW00026435_NENANA_LOG],\n",
    "    mode='markers',\n",
    "    marker=dict(\n",
    "        size=10,\n",
    "        color='red',\n",
    "        opacity=0.8  # Increase opacity\n",
    "    ),\n",
    "    text=[\"USGS Weather Station USW00026435\"],  # Text label for the marker\n",
    "    hoverinfo=\"text\",  # Only show text on hover\n",
    "    name=\"Nenana Weather Station\"\n",
    "))\n",
    "fig.add_trace(go.Scattermapbox(\n",
    "    lat=[USW00026435_Fairbanks_LAT],\n",
    "    lon=[USW00026435_Fairbanks_LOG],\n",
    "    mode='markers',\n",
    "    marker=dict(\n",
    "        size=10,\n",
    "        color='red',\n",
    "        opacity=0.8  # Increase opacity\n",
    "    ),\n",
    "    text=[\"USGS Weather Station USW00026411\"],  # Text label for the marker\n",
    "    hoverinfo=\"text\",  # Only show text on hover\n",
    "    name=\"Fairbanks Weather Station\"\n",
    "))\n",
    "fig.add_trace(go.Scattermapbox(\n",
    "    lat=square_lat,\n",
    "    lon=square_lon,\n",
    "    mode='lines',  # Draw lines between vertices\n",
    "    line=dict(color='yellow'),  # Color of the lines\n",
    "    fill='toself',  # Fill the inside of the polygon\n",
    "    fillcolor='rgba(255, 239,0, 0.1)',\n",
    "    name='Temperature',\n",
    "    text=\"Berkeley Earth Global\",\n",
    "    hoverinfo='text'\n",
    "))\n",
    "fig.add_trace(go.Scattermapbox(\n",
    "    lat=[gulkana_lat],\n",
    "    lon=[gulkana_lon],\n",
    "    mode='markers',  # Draw lines between vertices\n",
    "     marker=dict(\n",
    "        size=10,\n",
    "        color='blue',\n",
    "        opacity=0.8  # Increase opacity\n",
    "    ),\n",
    "    name='Gulkana  Glacier',\n",
    "    text=\"USGS  Weather Station  15485500\",\n",
    "    hoverinfo='text'\n",
    "))\n",
    "fig.add_trace(go.Scattermapbox(\n",
    "    lat=[usgs_tenana_river_lat],\n",
    "    lon=[usgs_tenana_river_lon],\n",
    "    mode='markers',  # Draw lines between vertices\n",
    "     marker=dict(\n",
    "        size=10,\n",
    "        color='green',\n",
    "        opacity=0.8  # Increase opacity\n",
    "    ),\n",
    "    name='Tenana R at Nenana',\n",
    "    text=\"USGS  Weather Station 15515500\",\n",
    "    hoverinfo='text'\n",
    "))\n",
    "fig.add_trace(go.Scattermapbox(\n",
    "    lat=[usgs_tenana_fairbanks_lat],\n",
    "    lon=[usgs_tenana_fairbanks_lon],\n",
    "    mode='markers',  # Draw lines between vertices\n",
    "     marker=dict(\n",
    "        size=10,\n",
    "        color='green',\n",
    "        opacity=0.8  # Increase opacity\n",
    "    ),\n",
    "    name='Tenana R at Fairbanks',\n",
    "    text=\"USGS  Weather Station 15515500\",\n",
    "    hoverinfo='text'\n",
    "))\n",
    "fig.add_trace(go.Scattermapbox(\n",
    "    lat=square_lat_w,\n",
    "    lon=square_lon_w,\n",
    "    mode='lines',  # Draw lines between vertices\n",
    "    line=dict(color='pink'),  # Color of the lines\n",
    "    fill='toself',  # Fill the inside of the polygon\n",
    "    fillcolor='rgba(255, 20,147, 0.01)',\n",
    "    name='Solar Radiation and Cloud Coverage',\n",
    "    text=\"TEMIS & NERC-EDS\",\n",
    "    hoverinfo='text'\n",
    "))\n",
    "\n",
    "\n",
    "\n",
    "# Update layout with mapbox style and center coordinates\n",
    "fig.update_layout(\n",
    "    mapbox_style=\"open-street-map\",\n",
    "    mapbox=dict(\n",
    "        center=dict(lat=nenana_lat, lon=nenana_lon),\n",
    "        zoom=5\n",
    "    ),\n",
    "    margin=dict(l=0, r=0, t=0, b=0)  # Set margins to zero\n",
    ")\n",
    "\n",
    "# Add invisible scatter plot trace to capture click events\n",
    "click_trace = go.Scattermapbox(lat=[], lon=[], mode='markers', marker=dict(opacity=0))\n",
    "fig.add_trace(click_trace)\n",
    "\n",
    "# Update click event handler\n",
    "click_trace.on_click(click_callback)\n",
    "\n",
    "# Show interactive plot\n",
    "fig.show()\n",
    "\n",
    "\n",
    "\n"
   ]
  },
  {
   "cell_type": "code",
   "execution_count": null,
   "metadata": {},
   "outputs": [],
   "source": []
  }
 ],
 "metadata": {
  "kernelspec": {
   "display_name": "iceclassic",
   "language": "python",
   "name": "python3"
  },
  "language_info": {
   "codemirror_mode": {
    "name": "ipython",
    "version": 3
   },
   "file_extension": ".py",
   "mimetype": "text/x-python",
   "name": "python",
   "nbconvert_exporter": "python",
   "pygments_lexer": "ipython3",
   "version": "3.11.9"
  }
 },
 "nbformat": 4,
 "nbformat_minor": 2
}
