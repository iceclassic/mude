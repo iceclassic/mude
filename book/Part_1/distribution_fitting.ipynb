{
 "cells": [
  {
   "cell_type": "markdown",
   "metadata": {},
   "source": [
    "# Distribution fitting\n",
    "\n",
    "> we know that the temperature distributions is normal/t-student \n",
    "> load data and fit distribution\n",
    "    - Moments\n",
    "    - QQ-Plots\n",
    "    - statistical test\n",
    "\n",
    "\n",
    "if we assume certain distribution of temperature ( 5%-min 95-max) we can fit distribution of temperature (hourly), then use this distribution to recalculate the ice thickness is there any difference\n",
    "\n",
    "\n",
    "## but, we are assuming that temperature distribution is constant across years?\n",
    "- signal processing\n",
    "- Time series analysis\n",
    "\n",
    "\n"
   ]
  },
  {
   "cell_type": "markdown",
   "metadata": {},
   "source": []
  }
 ],
 "metadata": {
  "language_info": {
   "name": "python"
  }
 },
 "nbformat": 4,
 "nbformat_minor": 2
}
