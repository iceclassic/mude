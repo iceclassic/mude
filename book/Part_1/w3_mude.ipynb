{
 "cells": [
  {
   "cell_type": "markdown",
   "metadata": {},
   "source": [
    "# MUDE W3- Gradient Estimation \n",
    "\n",
    "\n",
    "\n",
    "<div style=\"background-color:#AABAB2; color: black; vertical-align: middle; padding:15px; margin: 10px; border-radius: 10px; width: 95%\">\n",
    "<p>\n",
    "<b>Info:</b> \n",
    "\n",
    "This notebook is a very simple draft showing how we could use data from the Nenana Ice Classic in the numerical modelling part.\n",
    "\n",
    "The implementation is not very efficient, but it is very flexible.\n",
    "\n",
    "The datafile used can be either downloaded and loaded using the saved path, or use the function `import_data_browser` to directly get the data from github.\n",
    "</p>\n",
    "</div>\n"
   ]
  },
  {
   "cell_type": "code",
   "execution_count": 1,
   "metadata": {},
   "outputs": [],
   "source": [
    "from io import StringIO\n",
    "import requests\n",
    "import pandas as pd\n",
    "import numpy as np\n",
    "import matplotlib.pyplot as plt\n",
    "import plotly.graph_objects as go\n",
    "\n",
    "def import_data_browser(url):\n",
    "    \"\"\"\n",
    "    This function imports data from a specified URL.\n",
    "\n",
    "    Parameters:\n",
    "    url (str): The URL from which to import the data.\n",
    "\n",
    "    Returns:\n",
    "    None\n",
    "\n",
    "    Comments:\n",
    "    This function is needed to load data in a browser, as the environment used does not support absolute/relative path imports \n",
    "    \"\"\"\n",
    "   \n",
    "    response = requests.get(url)\n",
    "    csv_data = StringIO(response.text)\n",
    "\n",
    "    return csv_data\n",
    "def plot_columns_interactive(df, column_groups: dict, title: str | None = None, \n",
    "                             xlabel: str | None = 'Date', \n",
    "                             y_domains: dict | None = None)-> go.Figure: \n",
    "    \"\"\"\n",
    "    Plot columns of a DataFrame in interactive plots with multiple y-axes using Plotly.\n",
    "\n",
    "    Parameters\n",
    "    -----------\n",
    "    df : pandas.DataFrame\n",
    "        The input DataFrame.\n",
    "    column_groups : dict\n",
    "        A dictionary where keys are group names and values are lists of column names to be plotted together.\n",
    "    title : str, optional\n",
    "        The title of the plot.\n",
    "    xlabel : str, optional\n",
    "        The label for the x-axis.\n",
    "    date_focus : str, optional\n",
    "        The initial focus point of the date selector buttons. Format: 'YYYY-MM-DD'.\n",
    "\n",
    "    Returns\n",
    "    -------\n",
    "    fig : plotly.graph_objs.Figure\n",
    "    \"\"\"\n",
    "    fig = go.Figure()\n",
    "    \n",
    "    num_groups = len(column_groups)\n",
    "    y_domains = {i: [i / num_groups, (i + 1) / num_groups] for i in range(num_groups)}\n",
    "\n",
    "    # Add traces for each column group with separate y-axes\n",
    "    for i, (group_name, columns) in enumerate(column_groups.items(), start=1):\n",
    "        y_axis = f'y{i}'\n",
    "        for column in columns:\n",
    "            if column in df.columns:\n",
    "                col_data = df[column].copy()\n",
    "                col_data.dropna(inplace=True)\n",
    "                fig.add_trace(go.Scatter(x=col_data.index, y=col_data, mode='lines', name=f\"{group_name}: {column}\", yaxis=y_axis))\n",
    "            else:\n",
    "                print(f\"Warning: Column '{column}' not found in DataFrame\")\n",
    "        \n",
    "        # Update layout to add a new y-axis\n",
    "        fig.update_layout(\n",
    "            **{f'yaxis{i}': dict(\n",
    "                title=f\"{group_name}\", \n",
    "                anchor='x', \n",
    "                overlaying='y', \n",
    "                side='left', \n",
    "                domain=y_domains.get(i-1, [0, 1]), \n",
    "                showline=True,\n",
    "                linecolor=\"black\",\n",
    "                mirror=True,\n",
    "                tickmode=\"auto\",\n",
    "                ticks=\"\",\n",
    "                titlefont={\"color\": \"black\"},\n",
    "                type=\"linear\",\n",
    "                zeroline=False\n",
    "            )}\n",
    "        )\n",
    "    \n",
    "    # General layout updates\n",
    "    fig.update_layout(\n",
    "        title=title,\n",
    "        xaxis=dict(\n",
    "            title=xlabel, \n",
    "            rangeslider=dict(visible=True), \n",
    "            type=\"date\",\n",
    "            rangeselector=dict(\n",
    "                buttons=list([\n",
    "                    dict(count=1, label=\"1m\", step=\"month\", stepmode=\"backward\"),\n",
    "                    dict(count=6, label=\"6m\", step=\"month\", stepmode=\"backward\"),\n",
    "                    dict(count=1, label=\"YTD\", step=\"year\", stepmode=\"todate\"),\n",
    "                    dict(count=1, label=\"1y\", step=\"year\", stepmode=\"backward\"),\n",
    "                    dict(step=\"all\")\n",
    "                ])\n",
    "            )\n",
    "        ),\n",
    "        dragmode=\"zoom\",\n",
    "        hovermode=\"x\",\n",
    "        legend=dict(traceorder=\"reversed\",\n",
    "        x=0,\n",
    "        y=1,\n",
    "        xanchor='left',\n",
    "        yanchor='top',\n",
    "        orientation='v'\n",
    "    ),\n",
    "        height=800,\n",
    "        template=\"plotly\",\n",
    "        margin=dict(t=90, b=150)\n",
    "    )\n",
    "\n",
    "    # Add break up times shapes if necessary\n",
    "    file3=import_data_browser('https://raw.githubusercontent.com/iceclassic/mude/main/book/data_files/BreakUpTimes.csv')\n",
    "    break_up_times = pd.read_csv(file3)\n",
    "    break_up_times['timestamp'] = pd.to_datetime(break_up_times[['Year', 'Month', 'Day', 'Hour', 'Minute']])\n",
    "    break_up_times.set_index('timestamp', inplace=True)\n",
    "    shapes = []\n",
    "    for date in break_up_times.index:\n",
    "        shape = {\"type\": \"line\", \"xref\": \"x\", \"yref\": \"paper\", \"x0\": date, \"y0\": 0, \"x1\": date, \"y1\": 1,\n",
    "                 \"line\": {\"color\": 'red', \"width\": 0.6, \"dash\": 'dot'}, 'name': 'break up times'}\n",
    "        shapes.append(shape)\n",
    "\n",
    "    fig.update_layout(shapes=shapes)\n",
    "    # dumm line to add to legend\n",
    "    fig.add_trace(go.Scatter(\n",
    "        x=[None], y=[None],  \n",
    "        mode='lines',\n",
    "        line=dict(color='red', width=0.6, dash='dot'),\n",
    "        name='Break Up Times',  \n",
    "        hoverinfo='none',  \\\n",
    "        showlegend=True     \n",
    "    ))\n",
    "    #fig.show()\n",
    "    return fig\n"
   ]
  },
  {
   "cell_type": "markdown",
   "metadata": {},
   "source": []
  },
  {
   "cell_type": "code",
   "execution_count": 2,
   "metadata": {},
   "outputs": [
    {
     "name": "stdout",
     "output_type": "stream",
     "text": [
      "<class 'pandas.core.frame.DataFrame'>\n",
      "DatetimeIndex: 39309 entries, 1901-02-01 to 2024-02-06\n",
      "Data columns (total 24 columns):\n",
      " #   Column                                             Non-Null Count  Dtype  \n",
      "---  ------                                             --------------  -----  \n",
      " 0   Regional: Air temperature [C]                      38563 non-null  float64\n",
      " 1   Days since start of year                           38563 non-null  float64\n",
      " 2   Days until break up                                38563 non-null  float64\n",
      " 3   Nenana: Rainfall [mm]                              29547 non-null  float64\n",
      " 4   Nenana: Snowfall [mm]                              19945 non-null  float64\n",
      " 5   Nenana: Snow depth [mm]                            15984 non-null  float64\n",
      " 6   Nenana: Mean water temperature [C]                 2418 non-null   float64\n",
      " 7   Nenana: Mean Discharge [m3/s]                      22562 non-null  float64\n",
      " 8   Nenana: Air temperature [C]                        31171 non-null  float64\n",
      " 9   Fairbanks: Average wind speed [m/s]                9797 non-null   float64\n",
      " 10  Fairbanks: Rainfall [mm]                           29586 non-null  float64\n",
      " 11  Fairbanks: Snowfall [mm]                           29586 non-null  float64\n",
      " 12  Fairbanks: Snow depth [mm]                         29555 non-null  float64\n",
      " 13  Fairbanks: Air Temperature [C]                     29587 non-null  float64\n",
      " 14  IceThickness [cm]                                  461 non-null    float64\n",
      " 15  Regional: Solar Surface Irradiance [W/m2]          86 non-null     float64\n",
      " 16  Regional: Cloud coverage [%]                       1463 non-null   float64\n",
      " 17  Global: ENSO-Southern oscillation index            876 non-null    float64\n",
      " 18  Gulkana Temperature [C]                            19146 non-null  float64\n",
      " 19  Gulkana Precipitation [mm]                         18546 non-null  float64\n",
      " 20  Gulkana: Glacier-wide winter mass balance [m.w.e]  58 non-null     float64\n",
      " 21  Gulkana: Glacier-wide summer mass balance [m.w.e]  58 non-null     float64\n",
      " 22  Global: Pacific decadal oscillation index          1346 non-null   float64\n",
      " 23  Global: Artic oscillation index                    889 non-null    float64\n",
      "dtypes: float64(24)\n",
      "memory usage: 7.5 MB\n"
     ]
    }
   ],
   "source": [
    "\n",
    "# we could load the data from the repo\n",
    "#Data=pd.read_csv(\"../data_files/Time_series_DATA.txt\",skiprows=149,index_col=0,sep='\\t')\n",
    "\n",
    "# or we could load the data from the web ( by fetching the file from github )\n",
    "file=import_data_browser('https://raw.githubusercontent.com/iceclassic/mude/main/book/data_files/Time_series_DATA.txt')\n",
    "Data=pd.read_csv(file,skiprows=149,index_col=0,sep='\\t')\n",
    "Data.index = pd.to_datetime(Data.index, format=\"%Y-%m-%d\")\n",
    "Data.info()"
   ]
  },
  {
   "cell_type": "markdown",
   "metadata": {},
   "source": [
    "Lets plot the raw timeseries without any modifications,interpolation or other stuff."
   ]
  },
  {
   "cell_type": "code",
   "execution_count": 3,
   "metadata": {},
   "outputs": [
    {
     "data": {
      "image/png": "[encoded data removed]",
      "text/plain": [
       "<Figure size 2000x500 with 1 Axes>"
      ]
     },
     "metadata": {},
     "output_type": "display_data"
    }
   ],
   "source": [
    "Ice_thickness=Data['IceThickness [cm]']\n",
    "Ice_thickness=Ice_thickness.dropna(inplace=False) # drop the missing values\n",
    "\n",
    "plt.figure(figsize=(20,5))\n",
    "plt.plot(Ice_thickness)\n",
    "plt.scatter(Ice_thickness.index,Ice_thickness,color='teal',marker='x',s=50)\n",
    "plt.title('Nenana Ice Classic Ice Thickness Time Series')\n",
    "plt.ylabel('Ice Thickness [cm]')\n",
    "plt.xlabel('Date')\n",
    "plt.grid()\n",
    "plt.show()"
   ]
  },
  {
   "cell_type": "markdown",
   "metadata": {},
   "source": [
    "Instead of vectoring the code and applying the function to the whole time-series, we will group the data by year and apply it to each year. \n",
    "\n",
    "Lets use the interactive function so we can zoom-in/scroll to get a better feeling for the data."
   ]
  },
  {
   "cell_type": "code",
   "execution_count": 4,
   "metadata": {},
   "outputs": [
    {
     "data": {
      "application/vnd.plotly.v1+json": {
       "config": {
        "plotlyServerURL": "https://plot.ly"
       },
       "data": [
        {
         "mode": "lines",
         "name": "Nenana: IceThickness [cm]",
         "type": "scatter",
         "x": [
          "1989-02-26T00:00:00",
          "1989-03-16T00:00:00",
          "1989-03-21T00:00:00",
          "1989-03-25T00:00:00",
          "1989-03-28T00:00:00",
          "1989-04-04T00:00:00",
          "1989-04-10T00:00:00",
          "1989-04-12T00:00:00",
          "1990-02-25T00:00:00",
          "1990-03-09T00:00:00",
          "1990-03-19T00:00:00",
          "1990-03-23T00:00:00",
          "1990-03-26T00:00:00",
          "1990-03-30T00:00:00",
          "1991-02-14T00:00:00",
          "1991-02-25T00:00:00",
          "1991-03-05T00:00:00",
          "1991-03-17T00:00:00",
          "1991-03-26T00:00:00",
          "1991-04-01T00:00:00",
          "1991-04-08T00:00:00",
          "1991-04-10T00:00:00",
          "1991-04-18T00:00:00",
          "1992-02-24T00:00:00",
          "1992-03-01T00:00:00",
          "1992-03-10T00:00:00",
          "1992-03-14T00:00:00",
          "1992-03-24T00:00:00",
          "1992-03-27T00:00:00",
          "1992-03-30T00:00:00",
          "1992-04-01T00:00:00",
          "1992-04-03T00:00:00",
          "1992-04-11T00:00:00",
          "1992-04-13T00:00:00",
          "1992-04-15T00:00:00",
          "1992-04-18T00:00:00",
          "1992-04-22T00:00:00",
          "1993-02-20T00:00:00",
          "1993-02-26T00:00:00",
          "1993-03-06T00:00:00",
          "1993-03-24T00:00:00",
          "1993-03-31T00:00:00",
          "1993-04-01T00:00:00",
          "1993-04-02T00:00:00",
          "1993-04-04T00:00:00",
          "1993-04-06T00:00:00",
          "1993-04-08T00:00:00",
          "1993-04-09T00:00:00",
          "1994-01-20T00:00:00",
          "1994-02-04T00:00:00",
          "1994-02-17T00:00:00",
          "1994-02-24T00:00:00",
          "1994-03-03T00:00:00",
          "1994-03-13T00:00:00",
          "1994-03-24T00:00:00",
          "1994-03-28T00:00:00",
          "1994-03-31T00:00:00",
          "1994-04-03T00:00:00",
          "1994-04-08T00:00:00",
          "1994-04-14T00:00:00",
          "1994-04-18T00:00:00",
          "1994-04-22T00:00:00",
          "1995-01-27T00:00:00",
          "1995-02-08T00:00:00",
          "1995-02-17T00:00:00",
          "1995-02-20T00:00:00",
          "1995-02-28T00:00:00",
          "1995-03-06T00:00:00",
          "1995-03-15T00:00:00",
          "1995-03-23T00:00:00",
          "1995-03-28T00:00:00",
          "1995-03-31T00:00:00",
          "1995-04-07T00:00:00",
          "1995-04-11T00:00:00",
          "1995-04-13T00:00:00",
          "1996-02-10T00:00:00",
          "1996-02-23T00:00:00",
          "1996-02-29T00:00:00",
          "1996-03-06T00:00:00",
          "1996-03-12T00:00:00",
          "1996-03-19T00:00:00",
          "1996-03-25T00:00:00",
          "1996-03-27T00:00:00",
          "1996-04-01T00:00:00",
          "1996-04-04T00:00:00",
          "1996-04-08T00:00:00",
          "1996-04-16T00:00:00",
          "1996-04-19T00:00:00",
          "1996-04-22T00:00:00",
          "1997-01-20T00:00:00",
          "1997-02-04T00:00:00",
          "1997-02-19T00:00:00",
          "1997-02-25T00:00:00",
          "1997-03-04T00:00:00",
          "1997-03-11T00:00:00",
          "1997-03-18T00:00:00",
          "1997-04-01T00:00:00",
          "1997-04-04T00:00:00",
          "1998-01-22T00:00:00",
          "1998-02-05T00:00:00",
          "1998-02-18T00:00:00",
          "1998-02-25T00:00:00",
          "1998-03-04T00:00:00",
          "1998-03-08T00:00:00",
          "1998-03-11T00:00:00",
          "1998-03-18T00:00:00",
          "1998-03-25T00:00:00",
          "1998-03-30T00:00:00",
          "1998-04-01T00:00:00",
          "1998-04-03T00:00:00",
          "1999-01-14T00:00:00",
          "1999-02-12T00:00:00",
          "1999-02-17T00:00:00",
          "1999-02-24T00:00:00",
          "1999-03-01T00:00:00",
          "1999-03-08T00:00:00",
          "1999-03-11T00:00:00",
          "1999-03-15T00:00:00",
          "1999-03-18T00:00:00",
          "1999-03-22T00:00:00",
          "1999-03-25T00:00:00",
          "1999-03-29T00:00:00",
          "1999-04-01T00:00:00",
          "1999-04-05T00:00:00",
          "1999-04-08T00:00:00",
          "1999-04-12T00:00:00",
          "1999-04-15T00:00:00",
          "2000-01-23T00:00:00",
          "2000-02-13T00:00:00",
          "2000-02-20T00:00:00",
          "2000-02-27T00:00:00",
          "2000-03-05T00:00:00",
          "2000-03-12T00:00:00",
          "2000-03-16T00:00:00",
          "2000-03-19T00:00:00",
          "2000-03-23T00:00:00",
          "2000-03-30T00:00:00",
          "2000-04-02T00:00:00",
          "2000-04-04T00:00:00",
          "2000-04-09T00:00:00",
          "2000-04-13T00:00:00",
          "2001-01-16T00:00:00",
          "2001-02-06T00:00:00",
          "2001-02-11T00:00:00",
          "2001-02-19T00:00:00",
          "2001-02-25T00:00:00",
          "2001-03-04T00:00:00",
          "2001-03-11T00:00:00",
          "2001-03-18T00:00:00",
          "2001-03-22T00:00:00",
          "2001-03-26T00:00:00",
          "2001-03-29T00:00:00",
          "2001-04-02T00:00:00",
          "2001-04-06T00:00:00",
          "2001-04-12T00:00:00",
          "2001-04-16T00:00:00",
          "2002-01-14T00:00:00",
          "2002-01-28T00:00:00",
          "2002-02-14T00:00:00",
          "2002-03-03T00:00:00",
          "2002-03-12T00:00:00",
          "2002-03-17T00:00:00",
          "2002-03-20T00:00:00",
          "2002-03-24T00:00:00",
          "2002-03-27T00:00:00",
          "2002-03-31T00:00:00",
          "2002-04-03T00:00:00",
          "2002-04-07T00:00:00",
          "2002-04-11T00:00:00",
          "2002-04-14T00:00:00",
          "2002-04-17T00:00:00",
          "2002-04-21T00:00:00",
          "2002-04-25T00:00:00",
          "2002-04-29T00:00:00",
          "2003-01-13T00:00:00",
          "2003-01-27T00:00:00",
          "2003-02-10T00:00:00",
          "2003-02-24T00:00:00",
          "2003-03-02T00:00:00",
          "2003-03-09T00:00:00",
          "2003-03-17T00:00:00",
          "2003-03-23T00:00:00",
          "2003-03-26T00:00:00",
          "2003-03-31T00:00:00",
          "2003-04-02T00:00:00",
          "2003-04-06T00:00:00",
          "2003-04-09T00:00:00",
          "2003-04-13T00:00:00",
          "2003-04-16T00:00:00",
          "2003-04-22T00:00:00",
          "2004-01-07T00:00:00",
          "2004-02-04T00:00:00",
          "2004-02-11T00:00:00",
          "2004-02-18T00:00:00",
          "2004-02-25T00:00:00",
          "2004-03-03T00:00:00",
          "2004-03-09T00:00:00",
          "2004-03-15T00:00:00",
          "2004-03-18T00:00:00",
          "2004-03-22T00:00:00",
          "2004-03-25T00:00:00",
          "2004-03-29T00:00:00",
          "2004-04-01T00:00:00",
          "2005-01-14T00:00:00",
          "2005-02-08T00:00:00",
          "2005-02-17T00:00:00",
          "2005-02-24T00:00:00",
          "2005-03-03T00:00:00",
          "2005-03-10T00:00:00",
          "2005-03-14T00:00:00",
          "2005-03-17T00:00:00",
          "2005-03-21T00:00:00",
          "2005-03-24T00:00:00",
          "2005-03-28T00:00:00",
          "2005-03-31T00:00:00",
          "2005-04-04T00:00:00",
          "2005-04-07T00:00:00",
          "2005-04-12T00:00:00",
          "2005-04-15T00:00:00",
          "2005-04-19T00:00:00",
          "2005-04-21T00:00:00",
          "2006-01-04T00:00:00",
          "2006-01-31T00:00:00",
          "2006-02-09T00:00:00",
          "2006-02-15T00:00:00",
          "2006-02-23T00:00:00",
          "2006-03-02T00:00:00",
          "2006-03-06T00:00:00",
          "2006-03-09T00:00:00",
          "2006-03-13T00:00:00",
          "2006-03-16T00:00:00",
          "2006-03-20T00:00:00",
          "2006-03-23T00:00:00",
          "2006-03-27T00:00:00",
          "2006-03-30T00:00:00",
          "2006-04-02T00:00:00",
          "2007-01-11T00:00:00",
          "2007-02-07T00:00:00",
          "2007-02-14T00:00:00",
          "2007-02-21T00:00:00",
          "2007-02-28T00:00:00",
          "2007-03-08T00:00:00",
          "2007-03-12T00:00:00",
          "2007-03-15T00:00:00",
          "2007-03-19T00:00:00",
          "2007-03-22T00:00:00",
          "2007-03-29T00:00:00",
          "2007-04-02T00:00:00",
          "2007-04-05T00:00:00",
          "2007-04-11T00:00:00",
          "2008-01-11T00:00:00",
          "2008-01-21T00:00:00",
          "2008-02-15T00:00:00",
          "2008-03-01T00:00:00",
          "2008-03-10T00:00:00",
          "2008-03-17T00:00:00",
          "2008-03-20T00:00:00",
          "2008-03-24T00:00:00",
          "2008-03-27T00:00:00",
          "2008-03-31T00:00:00",
          "2008-04-03T00:00:00",
          "2008-04-07T00:00:00",
          "2008-04-11T00:00:00",
          "2008-04-14T00:00:00",
          "2008-04-17T00:00:00",
          "2008-04-21T00:00:00",
          "2009-02-05T00:00:00",
          "2009-02-19T00:00:00",
          "2009-03-05T00:00:00",
          "2009-03-08T00:00:00",
          "2009-03-12T00:00:00",
          "2009-03-19T00:00:00",
          "2009-03-25T00:00:00",
          "2009-04-02T00:00:00",
          "2009-04-06T00:00:00",
          "2009-04-10T00:00:00",
          "2009-04-13T00:00:00",
          "2009-04-15T00:00:00",
          "2009-04-20T00:00:00",
          "2009-04-22T00:00:00",
          "2010-02-03T00:00:00",
          "2010-02-18T00:00:00",
          "2010-03-07T00:00:00",
          "2010-03-17T00:00:00",
          "2010-03-24T00:00:00",
          "2010-03-31T00:00:00",
          "2010-04-05T00:00:00",
          "2010-04-08T00:00:00",
          "2010-04-12T00:00:00",
          "2010-04-15T00:00:00",
          "2010-04-19T00:00:00",
          "2011-02-08T00:00:00",
          "2011-02-24T00:00:00",
          "2011-03-06T00:00:00",
          "2011-03-10T00:00:00",
          "2011-03-16T00:00:00",
          "2011-03-24T00:00:00",
          "2011-03-31T00:00:00",
          "2011-04-04T00:00:00",
          "2011-04-15T00:00:00",
          "2011-04-18T00:00:00",
          "2011-04-21T00:00:00",
          "2011-04-25T00:00:00",
          "2012-01-12T00:00:00",
          "2012-02-06T00:00:00",
          "2012-02-20T00:00:00",
          "2012-03-04T00:00:00",
          "2012-03-12T00:00:00",
          "2012-03-19T00:00:00",
          "2012-03-26T00:00:00",
          "2012-03-29T00:00:00",
          "2012-04-02T00:00:00",
          "2012-04-05T00:00:00",
          "2012-04-09T00:00:00",
          "2012-04-12T00:00:00",
          "2012-04-16T00:00:00",
          "2012-04-19T00:00:00",
          "2013-01-14T00:00:00",
          "2013-02-06T00:00:00",
          "2013-02-20T00:00:00",
          "2013-03-04T00:00:00",
          "2013-03-07T00:00:00",
          "2013-03-10T00:00:00",
          "2013-03-14T00:00:00",
          "2013-03-18T00:00:00",
          "2013-03-21T00:00:00",
          "2013-03-25T00:00:00",
          "2013-03-27T00:00:00",
          "2013-03-28T00:00:00",
          "2013-03-31T00:00:00",
          "2013-04-01T00:00:00",
          "2013-04-04T00:00:00",
          "2013-04-08T00:00:00",
          "2013-04-11T00:00:00",
          "2013-04-15T00:00:00",
          "2013-04-18T00:00:00",
          "2013-04-22T00:00:00",
          "2013-04-25T00:00:00",
          "2013-04-29T00:00:00",
          "2013-05-02T00:00:00",
          "2013-05-06T00:00:00",
          "2014-01-07T00:00:00",
          "2014-02-06T00:00:00",
          "2014-02-20T00:00:00",
          "2014-03-02T00:00:00",
          "2014-03-06T00:00:00",
          "2014-03-13T00:00:00",
          "2014-03-20T00:00:00",
          "2014-03-27T00:00:00",
          "2014-03-31T00:00:00",
          "2015-02-06T00:00:00",
          "2015-02-20T00:00:00",
          "2015-03-05T00:00:00",
          "2015-03-19T00:00:00",
          "2015-03-23T00:00:00",
          "2015-03-26T00:00:00",
          "2015-03-30T00:00:00",
          "2015-04-02T00:00:00",
          "2015-04-06T00:00:00",
          "2016-01-13T00:00:00",
          "2016-02-08T00:00:00",
          "2016-02-22T00:00:00",
          "2016-03-01T00:00:00",
          "2016-03-06T00:00:00",
          "2016-03-10T00:00:00",
          "2016-03-16T00:00:00",
          "2016-03-21T00:00:00",
          "2016-03-24T00:00:00",
          "2016-03-28T00:00:00",
          "2016-03-31T00:00:00",
          "2017-01-06T00:00:00",
          "2017-02-02T00:00:00",
          "2017-02-23T00:00:00",
          "2017-03-16T00:00:00",
          "2017-03-23T00:00:00",
          "2017-03-30T00:00:00",
          "2017-04-03T00:00:00",
          "2017-04-06T00:00:00",
          "2017-04-10T00:00:00",
          "2017-04-13T00:00:00",
          "2017-04-17T00:00:00",
          "2017-04-20T00:00:00",
          "2017-04-24T00:00:00",
          "2018-02-10T00:00:00",
          "2018-02-25T00:00:00",
          "2018-03-04T00:00:00",
          "2018-03-12T00:00:00",
          "2018-03-19T00:00:00",
          "2018-03-26T00:00:00",
          "2018-04-02T00:00:00",
          "2018-04-05T00:00:00",
          "2018-04-09T00:00:00",
          "2018-04-14T00:00:00",
          "2018-04-18T00:00:00",
          "2019-01-16T00:00:00",
          "2019-02-07T00:00:00",
          "2019-02-26T00:00:00",
          "2019-03-04T00:00:00",
          "2019-03-13T00:00:00",
          "2019-03-18T00:00:00",
          "2019-03-21T00:00:00",
          "2019-03-25T00:00:00",
          "2019-03-28T00:00:00",
          "2020-01-13T00:00:00",
          "2020-01-31T00:00:00",
          "2020-02-17T00:00:00",
          "2020-02-28T00:00:00",
          "2020-03-08T00:00:00",
          "2020-03-19T00:00:00",
          "2020-03-26T00:00:00",
          "2020-04-02T00:00:00",
          "2020-04-06T00:00:00",
          "2020-04-09T00:00:00",
          "2020-04-13T00:00:00",
          "2020-04-16T00:00:00",
          "2021-01-12T00:00:00",
          "2021-02-18T00:00:00",
          "2021-03-01T00:00:00",
          "2021-03-07T00:00:00",
          "2021-03-15T00:00:00",
          "2021-03-18T00:00:00",
          "2021-03-22T00:00:00",
          "2021-03-26T00:00:00",
          "2021-03-29T00:00:00",
          "2021-04-01T00:00:00",
          "2021-04-05T00:00:00",
          "2021-04-08T00:00:00",
          "2021-04-12T00:00:00",
          "2021-04-15T00:00:00",
          "2021-04-19T00:00:00",
          "2022-01-11T00:00:00",
          "2022-02-14T00:00:00",
          "2022-02-28T00:00:00",
          "2022-03-06T00:00:00",
          "2022-03-14T00:00:00",
          "2022-03-17T00:00:00",
          "2022-03-21T00:00:00",
          "2022-03-24T00:00:00",
          "2022-03-28T00:00:00",
          "2022-03-31T00:00:00",
          "2022-04-04T00:00:00",
          "2022-04-07T00:00:00",
          "2022-04-11T00:00:00",
          "2022-04-13T00:00:00",
          "2022-04-18T00:00:00",
          "2022-04-21T00:00:00",
          "2023-01-03T00:00:00",
          "2023-02-02T00:00:00",
          "2023-02-15T00:00:00",
          "2023-03-01T00:00:00",
          "2023-03-14T00:00:00",
          "2023-03-21T00:00:00",
          "2023-03-24T00:00:00",
          "2023-03-27T00:00:00",
          "2023-03-31T00:00:00",
          "2023-04-03T00:00:00",
          "2023-04-07T00:00:00",
          "2023-04-10T00:00:00",
          "2023-04-14T00:00:00",
          "2023-04-17T00:00:00",
          "2023-04-21T00:00:00"
         ],
         "y": [
          106.68,
          95.25,
          95.25,
          102.87,
          105.41,
          106.68,
          109.22,
          101.6,
          88.9,
          96.52,
          106.68,
          101.6,
          104.14,
          91.44,
          71.12,
          71.12,
          91.44,
          83.82,
          88.9,
          96.52,
          106.68,
          100.33,
          96.52,
          106.68,
          106.68,
          116.84,
          116.84,
          106.68,
          114.3,
          114.3,
          114.3,
          119.38,
          119.38,
          119.38,
          119.38,
          119.38,
          119.38,
          76.2,
          76.2,
          73.66,
          66.04,
          71.12,
          68.58,
          63.5,
          66.04,
          60.96,
          66.04,
          63.5,
          91.44,
          109.22,
          119.38,
          129.54,
          129.54,
          132.08,
          132.08,
          139.7,
          147.32,
          129.54,
          137.16,
          146.05,
          132.08,
          116.84,
          58.42,
          60.96,
          62.23,
          63.5,
          73.66,
          71.12,
          86.36,
          82.55,
          86.36,
          86.36,
          86.36,
          83.82,
          81.28,
          104.14,
          111.76,
          116.84,
          116.84,
          111.76,
          114.3,
          118.11,
          115.57,
          116.84,
          114.3,
          114.3,
          114.3,
          110.998,
          105.41,
          78.74,
          116.84,
          116.84,
          116.84,
          111.76,
          113.03,
          113.03,
          109.22,
          107.95,
          104.14,
          114.3,
          109.22,
          97.79,
          97.79,
          116.84,
          118.11,
          107.442,
          106.68,
          87.63,
          87.122,
          96.52,
          86.36,
          109.22,
          114.3,
          109.22,
          111.76,
          111.76,
          114.3,
          119.38,
          116.84,
          121.92,
          119.38,
          109.22,
          111.76,
          116.84,
          119.38,
          114.3,
          109.22,
          78.74,
          78.74,
          83.82,
          83.82,
          88.9,
          91.44,
          88.9,
          82.804,
          90.424,
          93.218,
          83.058,
          95.758,
          88.9,
          91.44,
          87.63,
          93.98,
          84.582,
          83.82,
          111.76,
          106.68,
          104.14,
          94.742,
          102.362,
          98.298,
          99.06,
          99.822,
          97.282,
          92.202,
          85.09,
          106.68,
          110.49,
          119.38,
          129.54,
          130.81,
          129.54,
          128.27,
          129.032,
          124.46,
          121.92,
          121.92,
          121.92,
          121.92,
          121.92,
          115.57,
          120.142,
          111.76,
          106.68,
          76.2,
          104.14,
          101.6,
          110.998,
          110.998,
          116.332,
          122.428,
          120.65,
          121.92,
          120.65,
          122.428,
          129.54,
          120.142,
          120.904,
          115.824,
          97.282,
          54.61,
          76.2,
          88.9,
          92.71,
          95.25,
          63.5,
          71.12,
          83.82,
          85.09,
          87.63,
          88.138,
          88.9,
          90.17,
          73.66,
          88.9,
          102.87,
          101.6,
          106.68,
          85.09,
          93.98,
          106.68,
          92.202,
          93.98,
          91.44,
          91.44,
          81.28,
          90.17,
          101.6,
          101.6,
          89.662,
          90.17,
          109.22,
          96.52,
          88.9,
          96.52,
          91.44,
          114.3,
          106.68,
          86.36,
          81.28,
          82.55,
          87.63,
          87.122,
          86.36,
          87.63,
          83.058,
          102.87,
          106.68,
          111.76,
          116.84,
          129.794,
          118.11,
          116.84,
          118.364,
          124.46,
          129.54,
          123.698,
          126.238,
          123.952,
          118.11,
          96.52,
          111.76,
          104.14,
          129.54,
          113.03,
          117.602,
          120.65,
          116.84,
          138.43,
          120.65,
          115.824,
          112.522,
          115.824,
          112.522,
          113.538,
          102.87,
          107.95,
          115.57,
          105.41,
          114.3,
          110.49,
          111.76,
          111.125,
          114.3,
          116.84,
          118.745,
          117.856,
          113.284,
          112.268,
          108.458,
          111.76,
          127,
          119.38,
          130.81,
          130.175,
          128.016,
          117.602,
          115.062,
          111.76,
          114.808,
          103.886,
          97.282,
          103.505,
          115.062,
          105.41,
          100.7364,
          106.68,
          105.41,
          101.346,
          107.95,
          105.664,
          105.156,
          99.06,
          58.42,
          83.82,
          83.82,
          87.63,
          90.678,
          95.758,
          103.378,
          104.902,
          109.982,
          112.522,
          108.458,
          99.06,
          85.598,
          72.898,
          104.14,
          106.68,
          129.54,
          121.92,
          123.698,
          134.112,
          127,
          127.762,
          127,
          129.54,
          102.108,
          119.888,
          92.202,
          125.222,
          112.522,
          127,
          127,
          127.762,
          125.984,
          124.968,
          129.54,
          119.38,
          93.218,
          101.6,
          65.405,
          78.74,
          86.36,
          99.568,
          93.472,
          96.52,
          97.028,
          102.108,
          92.202,
          55.88,
          86.36,
          97.79,
          88.9,
          88.9,
          90.932,
          90.932,
          90.17,
          85.09,
          63.5,
          85.09,
          83.82,
          101.6,
          101.6,
          91.44,
          94.488,
          89.662,
          96.52,
          93.218,
          90.678,
          88.9,
          88.9,
          80.01,
          100.33,
          92.202,
          100.838,
          98.552,
          100.33,
          99.06,
          93.98,
          90.424,
          88.138,
          75.438,
          71.12,
          86.36,
          91.44,
          71.882,
          81.28,
          67.31,
          67.31,
          68.072,
          67.818,
          65.532,
          62.738,
          40.64,
          40.64,
          59.69,
          82.55,
          65.278,
          60.452,
          66.802,
          81.026,
          64.262,
          62.23,
          73.66,
          80.01,
          82.55,
          88.9,
          87.63,
          87.63,
          90.17,
          82.55,
          90.17,
          87.884,
          83.058,
          86.36,
          109.22,
          113.03,
          115.57,
          117.348,
          116.84,
          114.808,
          114.3,
          107.442,
          115.062,
          114.808,
          114.3,
          114.808,
          114.3,
          109.982,
          68.58,
          72.39,
          80.518,
          68.58,
          75.438,
          80.264,
          75.946,
          81.28,
          76.708,
          82.296,
          79.502,
          76.835,
          81.788,
          73.406,
          81.28,
          75.946,
          55.88,
          65.532,
          66.548,
          70.104,
          79.502,
          82.042,
          50.8,
          66.802,
          77.724,
          78.232,
          73.152,
          77.47,
          74.93,
          74.93,
          75.692
         ],
         "yaxis": "y"
        },
        {
         "hoverinfo": "none",
         "line": {
          "color": "red",
          "dash": "dot",
          "width": 0.6
         },
         "mode": "lines",
         "name": "Break Up Times",
         "showlegend": true,
         "type": "scatter",
         "x": [
          null
         ],
         "y": [
          null
         ]
        }
       ],
       "layout": {
        "dragmode": "zoom",
        "height": 800,
        "hovermode": "x",
        "legend": {
         "orientation": "v",
         "traceorder": "reversed",
         "x": 0,
         "xanchor": "left",
         "y": 1,
         "yanchor": "top"
        },
        "margin": {
         "b": 150,
         "t": 90
        },
        "shapes": [
         {
          "line": {
           "color": "red",
           "dash": "dot",
           "width": 0.6
          },
          "name": "break up times",
          "type": "line",
          "x0": "1917-04-30T11:30:00",
          "x1": "1917-04-30T11:30:00",
          "xref": "x",
          "y0": 0,
          "y1": 1,
          "yref": "paper"
         },
         {
          "line": {
           "color": "red",
           "dash": "dot",
           "width": 0.6
          },
          "name": "break up times",
          "type": "line",
          "x0": "1918-05-11T09:33:00",
          "x1": "1918-05-11T09:33:00",
          "xref": "x",
          "y0": 0,
          "y1": 1,
          "yref": "paper"
         },
         {
          "line": {
           "color": "red",
           "dash": "dot",
           "width": 0.6
          },
          "name": "break up times",
          "type": "line",
          "x0": "1919-05-03T14:33:00",
          "x1": "1919-05-03T14:33:00",
          "xref": "x",
          "y0": 0,
          "y1": 1,
          "yref": "paper"
         },
         {
          "line": {
           "color": "red",
           "dash": "dot",
           "width": 0.6
          },
          "name": "break up times",
          "type": "line",
          "x0": "1920-05-11T10:46:00",
          "x1": "1920-05-11T10:46:00",
          "xref": "x",
          "y0": 0,
          "y1": 1,
          "yref": "paper"
         },
         {
          "line": {
           "color": "red",
           "dash": "dot",
           "width": 0.6
          },
          "name": "break up times",
          "type": "line",
          "x0": "1921-05-11T06:42:00",
          "x1": "1921-05-11T06:42:00",
          "xref": "x",
          "y0": 0,
          "y1": 1,
          "yref": "paper"
         },
         {
          "line": {
           "color": "red",
           "dash": "dot",
           "width": 0.6
          },
          "name": "break up times",
          "type": "line",
          "x0": "1922-05-12T13:20:00",
          "x1": "1922-05-12T13:20:00",
          "xref": "x",
          "y0": 0,
          "y1": 1,
          "yref": "paper"
         },
         {
          "line": {
           "color": "red",
           "dash": "dot",
           "width": 0.6
          },
          "name": "break up times",
          "type": "line",
          "x0": "1923-05-09T02:00:00",
          "x1": "1923-05-09T02:00:00",
          "xref": "x",
          "y0": 0,
          "y1": 1,
          "yref": "paper"
         },
         {
          "line": {
           "color": "red",
           "dash": "dot",
           "width": 0.6
          },
          "name": "break up times",
          "type": "line",
          "x0": "1924-05-11T15:10:00",
          "x1": "1924-05-11T15:10:00",
          "xref": "x",
          "y0": 0,
          "y1": 1,
          "yref": "paper"
         },
         {
          "line": {
           "color": "red",
           "dash": "dot",
           "width": 0.6
          },
          "name": "break up times",
          "type": "line",
          "x0": "1925-05-07T18:32:00",
          "x1": "1925-05-07T18:32:00",
          "xref": "x",
          "y0": 0,
          "y1": 1,
          "yref": "paper"
         },
         {
          "line": {
           "color": "red",
           "dash": "dot",
           "width": 0.6
          },
          "name": "break up times",
          "type": "line",
          "x0": "1926-04-26T16:03:00",
          "x1": "1926-04-26T16:03:00",
          "xref": "x",
          "y0": 0,
          "y1": 1,
          "yref": "paper"
         },
         {
          "line": {
           "color": "red",
           "dash": "dot",
           "width": 0.6
          },
          "name": "break up times",
          "type": "line",
          "x0": "1927-05-13T05:42:00",
          "x1": "1927-05-13T05:42:00",
          "xref": "x",
          "y0": 0,
          "y1": 1,
          "yref": "paper"
         },
         {
          "line": {
           "color": "red",
           "dash": "dot",
           "width": 0.6
          },
          "name": "break up times",
          "type": "line",
          "x0": "1928-05-06T16:25:00",
          "x1": "1928-05-06T16:25:00",
          "xref": "x",
          "y0": 0,
          "y1": 1,
          "yref": "paper"
         },
         {
          "line": {
           "color": "red",
           "dash": "dot",
           "width": 0.6
          },
          "name": "break up times",
          "type": "line",
          "x0": "1929-05-05T15:41:00",
          "x1": "1929-05-05T15:41:00",
          "xref": "x",
          "y0": 0,
          "y1": 1,
          "yref": "paper"
         },
         {
          "line": {
           "color": "red",
           "dash": "dot",
           "width": 0.6
          },
          "name": "break up times",
          "type": "line",
          "x0": "1930-05-08T19:03:00",
          "x1": "1930-05-08T19:03:00",
          "xref": "x",
          "y0": 0,
          "y1": 1,
          "yref": "paper"
         },
         {
          "line": {
           "color": "red",
           "dash": "dot",
           "width": 0.6
          },
          "name": "break up times",
          "type": "line",
          "x0": "1931-05-10T09:23:00",
          "x1": "1931-05-10T09:23:00",
          "xref": "x",
          "y0": 0,
          "y1": 1,
          "yref": "paper"
         },
         {
          "line": {
           "color": "red",
           "dash": "dot",
           "width": 0.6
          },
          "name": "break up times",
          "type": "line",
          "x0": "1932-05-01T10:15:00",
          "x1": "1932-05-01T10:15:00",
          "xref": "x",
          "y0": 0,
          "y1": 1,
          "yref": "paper"
         },
         {
          "line": {
           "color": "red",
           "dash": "dot",
           "width": 0.6
          },
          "name": "break up times",
          "type": "line",
          "x0": "1933-05-08T19:30:00",
          "x1": "1933-05-08T19:30:00",
          "xref": "x",
          "y0": 0,
          "y1": 1,
          "yref": "paper"
         },
         {
          "line": {
           "color": "red",
           "dash": "dot",
           "width": 0.6
          },
          "name": "break up times",
          "type": "line",
          "x0": "1934-04-30T14:07:00",
          "x1": "1934-04-30T14:07:00",
          "xref": "x",
          "y0": 0,
          "y1": 1,
          "yref": "paper"
         },
         {
          "line": {
           "color": "red",
           "dash": "dot",
           "width": 0.6
          },
          "name": "break up times",
          "type": "line",
          "x0": "1935-05-15T13:32:00",
          "x1": "1935-05-15T13:32:00",
          "xref": "x",
          "y0": 0,
          "y1": 1,
          "yref": "paper"
         },
         {
          "line": {
           "color": "red",
           "dash": "dot",
           "width": 0.6
          },
          "name": "break up times",
          "type": "line",
          "x0": "1936-04-30T12:58:00",
          "x1": "1936-04-30T12:58:00",
          "xref": "x",
          "y0": 0,
          "y1": 1,
          "yref": "paper"
         },
         {
          "line": {
           "color": "red",
           "dash": "dot",
           "width": 0.6
          },
          "name": "break up times",
          "type": "line",
          "x0": "1937-05-12T20:04:00",
          "x1": "1937-05-12T20:04:00",
          "xref": "x",
          "y0": 0,
          "y1": 1,
          "yref": "paper"
         },
         {
          "line": {
           "color": "red",
           "dash": "dot",
           "width": 0.6
          },
          "name": "break up times",
          "type": "line",
          "x0": "1938-05-06T20:14:00",
          "x1": "1938-05-06T20:14:00",
          "xref": "x",
          "y0": 0,
          "y1": 1,
          "yref": "paper"
         },
         {
          "line": {
           "color": "red",
           "dash": "dot",
           "width": 0.6
          },
          "name": "break up times",
          "type": "line",
          "x0": "1939-04-29T13:26:00",
          "x1": "1939-04-29T13:26:00",
          "xref": "x",
          "y0": 0,
          "y1": 1,
          "yref": "paper"
         },
         {
          "line": {
           "color": "red",
           "dash": "dot",
           "width": 0.6
          },
          "name": "break up times",
          "type": "line",
          "x0": "1940-04-20T15:27:00",
          "x1": "1940-04-20T15:27:00",
          "xref": "x",
          "y0": 0,
          "y1": 1,
          "yref": "paper"
         },
         {
          "line": {
           "color": "red",
           "dash": "dot",
           "width": 0.6
          },
          "name": "break up times",
          "type": "line",
          "x0": "1941-05-03T01:50:00",
          "x1": "1941-05-03T01:50:00",
          "xref": "x",
          "y0": 0,
          "y1": 1,
          "yref": "paper"
         },
         {
          "line": {
           "color": "red",
           "dash": "dot",
           "width": 0.6
          },
          "name": "break up times",
          "type": "line",
          "x0": "1942-04-30T13:28:00",
          "x1": "1942-04-30T13:28:00",
          "xref": "x",
          "y0": 0,
          "y1": 1,
          "yref": "paper"
         },
         {
          "line": {
           "color": "red",
           "dash": "dot",
           "width": 0.6
          },
          "name": "break up times",
          "type": "line",
          "x0": "1943-04-28T19:22:00",
          "x1": "1943-04-28T19:22:00",
          "xref": "x",
          "y0": 0,
          "y1": 1,
          "yref": "paper"
         },
         {
          "line": {
           "color": "red",
           "dash": "dot",
           "width": 0.6
          },
          "name": "break up times",
          "type": "line",
          "x0": "1944-05-04T14:08:00",
          "x1": "1944-05-04T14:08:00",
          "xref": "x",
          "y0": 0,
          "y1": 1,
          "yref": "paper"
         },
         {
          "line": {
           "color": "red",
           "dash": "dot",
           "width": 0.6
          },
          "name": "break up times",
          "type": "line",
          "x0": "1945-05-16T09:41:00",
          "x1": "1945-05-16T09:41:00",
          "xref": "x",
          "y0": 0,
          "y1": 1,
          "yref": "paper"
         },
         {
          "line": {
           "color": "red",
           "dash": "dot",
           "width": 0.6
          },
          "name": "break up times",
          "type": "line",
          "x0": "1946-05-05T16:40:00",
          "x1": "1946-05-05T16:40:00",
          "xref": "x",
          "y0": 0,
          "y1": 1,
          "yref": "paper"
         },
         {
          "line": {
           "color": "red",
           "dash": "dot",
           "width": 0.6
          },
          "name": "break up times",
          "type": "line",
          "x0": "1947-05-03T17:53:00",
          "x1": "1947-05-03T17:53:00",
          "xref": "x",
          "y0": 0,
          "y1": 1,
          "yref": "paper"
         },
         {
          "line": {
           "color": "red",
           "dash": "dot",
           "width": 0.6
          },
          "name": "break up times",
          "type": "line",
          "x0": "1948-05-13T11:13:00",
          "x1": "1948-05-13T11:13:00",
          "xref": "x",
          "y0": 0,
          "y1": 1,
          "yref": "paper"
         },
         {
          "line": {
           "color": "red",
           "dash": "dot",
           "width": 0.6
          },
          "name": "break up times",
          "type": "line",
          "x0": "1949-05-14T12:39:00",
          "x1": "1949-05-14T12:39:00",
          "xref": "x",
          "y0": 0,
          "y1": 1,
          "yref": "paper"
         },
         {
          "line": {
           "color": "red",
           "dash": "dot",
           "width": 0.6
          },
          "name": "break up times",
          "type": "line",
          "x0": "1950-05-06T16:14:00",
          "x1": "1950-05-06T16:14:00",
          "xref": "x",
          "y0": 0,
          "y1": 1,
          "yref": "paper"
         },
         {
          "line": {
           "color": "red",
           "dash": "dot",
           "width": 0.6
          },
          "name": "break up times",
          "type": "line",
          "x0": "1951-04-30T17:54:00",
          "x1": "1951-04-30T17:54:00",
          "xref": "x",
          "y0": 0,
          "y1": 1,
          "yref": "paper"
         },
         {
          "line": {
           "color": "red",
           "dash": "dot",
           "width": 0.6
          },
          "name": "break up times",
          "type": "line",
          "x0": "1952-05-12T17:04:00",
          "x1": "1952-05-12T17:04:00",
          "xref": "x",
          "y0": 0,
          "y1": 1,
          "yref": "paper"
         },
         {
          "line": {
           "color": "red",
           "dash": "dot",
           "width": 0.6
          },
          "name": "break up times",
          "type": "line",
          "x0": "1953-04-29T15:54:00",
          "x1": "1953-04-29T15:54:00",
          "xref": "x",
          "y0": 0,
          "y1": 1,
          "yref": "paper"
         },
         {
          "line": {
           "color": "red",
           "dash": "dot",
           "width": 0.6
          },
          "name": "break up times",
          "type": "line",
          "x0": "1954-05-06T18:01:00",
          "x1": "1954-05-06T18:01:00",
          "xref": "x",
          "y0": 0,
          "y1": 1,
          "yref": "paper"
         },
         {
          "line": {
           "color": "red",
           "dash": "dot",
           "width": 0.6
          },
          "name": "break up times",
          "type": "line",
          "x0": "1955-05-09T14:13:00",
          "x1": "1955-05-09T14:13:00",
          "xref": "x",
          "y0": 0,
          "y1": 1,
          "yref": "paper"
         },
         {
          "line": {
           "color": "red",
           "dash": "dot",
           "width": 0.6
          },
          "name": "break up times",
          "type": "line",
          "x0": "1956-05-01T23:24:00",
          "x1": "1956-05-01T23:24:00",
          "xref": "x",
          "y0": 0,
          "y1": 1,
          "yref": "paper"
         },
         {
          "line": {
           "color": "red",
           "dash": "dot",
           "width": 0.6
          },
          "name": "break up times",
          "type": "line",
          "x0": "1957-05-05T09:30:00",
          "x1": "1957-05-05T09:30:00",
          "xref": "x",
          "y0": 0,
          "y1": 1,
          "yref": "paper"
         },
         {
          "line": {
           "color": "red",
           "dash": "dot",
           "width": 0.6
          },
          "name": "break up times",
          "type": "line",
          "x0": "1958-04-29T14:56:00",
          "x1": "1958-04-29T14:56:00",
          "xref": "x",
          "y0": 0,
          "y1": 1,
          "yref": "paper"
         },
         {
          "line": {
           "color": "red",
           "dash": "dot",
           "width": 0.6
          },
          "name": "break up times",
          "type": "line",
          "x0": "1959-05-08T11:26:00",
          "x1": "1959-05-08T11:26:00",
          "xref": "x",
          "y0": 0,
          "y1": 1,
          "yref": "paper"
         },
         {
          "line": {
           "color": "red",
           "dash": "dot",
           "width": 0.6
          },
          "name": "break up times",
          "type": "line",
          "x0": "1960-05-02T19:12:00",
          "x1": "1960-05-02T19:12:00",
          "xref": "x",
          "y0": 0,
          "y1": 1,
          "yref": "paper"
         },
         {
          "line": {
           "color": "red",
           "dash": "dot",
           "width": 0.6
          },
          "name": "break up times",
          "type": "line",
          "x0": "1961-05-05T11:31:00",
          "x1": "1961-05-05T11:31:00",
          "xref": "x",
          "y0": 0,
          "y1": 1,
          "yref": "paper"
         },
         {
          "line": {
           "color": "red",
           "dash": "dot",
           "width": 0.6
          },
          "name": "break up times",
          "type": "line",
          "x0": "1962-05-12T23:23:00",
          "x1": "1962-05-12T23:23:00",
          "xref": "x",
          "y0": 0,
          "y1": 1,
          "yref": "paper"
         },
         {
          "line": {
           "color": "red",
           "dash": "dot",
           "width": 0.6
          },
          "name": "break up times",
          "type": "line",
          "x0": "1963-05-05T18:25:00",
          "x1": "1963-05-05T18:25:00",
          "xref": "x",
          "y0": 0,
          "y1": 1,
          "yref": "paper"
         },
         {
          "line": {
           "color": "red",
           "dash": "dot",
           "width": 0.6
          },
          "name": "break up times",
          "type": "line",
          "x0": "1964-05-20T11:41:00",
          "x1": "1964-05-20T11:41:00",
          "xref": "x",
          "y0": 0,
          "y1": 1,
          "yref": "paper"
         },
         {
          "line": {
           "color": "red",
           "dash": "dot",
           "width": 0.6
          },
          "name": "break up times",
          "type": "line",
          "x0": "1965-05-07T19:01:00",
          "x1": "1965-05-07T19:01:00",
          "xref": "x",
          "y0": 0,
          "y1": 1,
          "yref": "paper"
         },
         {
          "line": {
           "color": "red",
           "dash": "dot",
           "width": 0.6
          },
          "name": "break up times",
          "type": "line",
          "x0": "1966-05-08T12:11:00",
          "x1": "1966-05-08T12:11:00",
          "xref": "x",
          "y0": 0,
          "y1": 1,
          "yref": "paper"
         },
         {
          "line": {
           "color": "red",
           "dash": "dot",
           "width": 0.6
          },
          "name": "break up times",
          "type": "line",
          "x0": "1967-05-04T11:55:00",
          "x1": "1967-05-04T11:55:00",
          "xref": "x",
          "y0": 0,
          "y1": 1,
          "yref": "paper"
         },
         {
          "line": {
           "color": "red",
           "dash": "dot",
           "width": 0.6
          },
          "name": "break up times",
          "type": "line",
          "x0": "1968-05-08T09:26:00",
          "x1": "1968-05-08T09:26:00",
          "xref": "x",
          "y0": 0,
          "y1": 1,
          "yref": "paper"
         },
         {
          "line": {
           "color": "red",
           "dash": "dot",
           "width": 0.6
          },
          "name": "break up times",
          "type": "line",
          "x0": "1969-04-28T12:28:00",
          "x1": "1969-04-28T12:28:00",
          "xref": "x",
          "y0": 0,
          "y1": 1,
          "yref": "paper"
         },
         {
          "line": {
           "color": "red",
           "dash": "dot",
           "width": 0.6
          },
          "name": "break up times",
          "type": "line",
          "x0": "1970-05-04T10:37:00",
          "x1": "1970-05-04T10:37:00",
          "xref": "x",
          "y0": 0,
          "y1": 1,
          "yref": "paper"
         },
         {
          "line": {
           "color": "red",
           "dash": "dot",
           "width": 0.6
          },
          "name": "break up times",
          "type": "line",
          "x0": "1971-05-08T21:31:00",
          "x1": "1971-05-08T21:31:00",
          "xref": "x",
          "y0": 0,
          "y1": 1,
          "yref": "paper"
         },
         {
          "line": {
           "color": "red",
           "dash": "dot",
           "width": 0.6
          },
          "name": "break up times",
          "type": "line",
          "x0": "1972-05-10T11:56:00",
          "x1": "1972-05-10T11:56:00",
          "xref": "x",
          "y0": 0,
          "y1": 1,
          "yref": "paper"
         },
         {
          "line": {
           "color": "red",
           "dash": "dot",
           "width": 0.6
          },
          "name": "break up times",
          "type": "line",
          "x0": "1973-05-04T11:59:00",
          "x1": "1973-05-04T11:59:00",
          "xref": "x",
          "y0": 0,
          "y1": 1,
          "yref": "paper"
         },
         {
          "line": {
           "color": "red",
           "dash": "dot",
           "width": 0.6
          },
          "name": "break up times",
          "type": "line",
          "x0": "1974-05-06T15:44:00",
          "x1": "1974-05-06T15:44:00",
          "xref": "x",
          "y0": 0,
          "y1": 1,
          "yref": "paper"
         },
         {
          "line": {
           "color": "red",
           "dash": "dot",
           "width": 0.6
          },
          "name": "break up times",
          "type": "line",
          "x0": "1975-05-10T13:49:00",
          "x1": "1975-05-10T13:49:00",
          "xref": "x",
          "y0": 0,
          "y1": 1,
          "yref": "paper"
         },
         {
          "line": {
           "color": "red",
           "dash": "dot",
           "width": 0.6
          },
          "name": "break up times",
          "type": "line",
          "x0": "1976-05-02T10:51:00",
          "x1": "1976-05-02T10:51:00",
          "xref": "x",
          "y0": 0,
          "y1": 1,
          "yref": "paper"
         },
         {
          "line": {
           "color": "red",
           "dash": "dot",
           "width": 0.6
          },
          "name": "break up times",
          "type": "line",
          "x0": "1977-05-06T12:46:00",
          "x1": "1977-05-06T12:46:00",
          "xref": "x",
          "y0": 0,
          "y1": 1,
          "yref": "paper"
         },
         {
          "line": {
           "color": "red",
           "dash": "dot",
           "width": 0.6
          },
          "name": "break up times",
          "type": "line",
          "x0": "1978-04-30T15:18:00",
          "x1": "1978-04-30T15:18:00",
          "xref": "x",
          "y0": 0,
          "y1": 1,
          "yref": "paper"
         },
         {
          "line": {
           "color": "red",
           "dash": "dot",
           "width": 0.6
          },
          "name": "break up times",
          "type": "line",
          "x0": "1979-04-30T18:16:00",
          "x1": "1979-04-30T18:16:00",
          "xref": "x",
          "y0": 0,
          "y1": 1,
          "yref": "paper"
         },
         {
          "line": {
           "color": "red",
           "dash": "dot",
           "width": 0.6
          },
          "name": "break up times",
          "type": "line",
          "x0": "1980-04-29T13:16:00",
          "x1": "1980-04-29T13:16:00",
          "xref": "x",
          "y0": 0,
          "y1": 1,
          "yref": "paper"
         },
         {
          "line": {
           "color": "red",
           "dash": "dot",
           "width": 0.6
          },
          "name": "break up times",
          "type": "line",
          "x0": "1981-04-30T18:44:00",
          "x1": "1981-04-30T18:44:00",
          "xref": "x",
          "y0": 0,
          "y1": 1,
          "yref": "paper"
         },
         {
          "line": {
           "color": "red",
           "dash": "dot",
           "width": 0.6
          },
          "name": "break up times",
          "type": "line",
          "x0": "1982-05-10T17:36:00",
          "x1": "1982-05-10T17:36:00",
          "xref": "x",
          "y0": 0,
          "y1": 1,
          "yref": "paper"
         },
         {
          "line": {
           "color": "red",
           "dash": "dot",
           "width": 0.6
          },
          "name": "break up times",
          "type": "line",
          "x0": "1983-04-29T18:37:00",
          "x1": "1983-04-29T18:37:00",
          "xref": "x",
          "y0": 0,
          "y1": 1,
          "yref": "paper"
         },
         {
          "line": {
           "color": "red",
           "dash": "dot",
           "width": 0.6
          },
          "name": "break up times",
          "type": "line",
          "x0": "1984-05-09T15:33:00",
          "x1": "1984-05-09T15:33:00",
          "xref": "x",
          "y0": 0,
          "y1": 1,
          "yref": "paper"
         },
         {
          "line": {
           "color": "red",
           "dash": "dot",
           "width": 0.6
          },
          "name": "break up times",
          "type": "line",
          "x0": "1985-05-11T14:36:00",
          "x1": "1985-05-11T14:36:00",
          "xref": "x",
          "y0": 0,
          "y1": 1,
          "yref": "paper"
         },
         {
          "line": {
           "color": "red",
           "dash": "dot",
           "width": 0.6
          },
          "name": "break up times",
          "type": "line",
          "x0": "1986-05-08T22:50:00",
          "x1": "1986-05-08T22:50:00",
          "xref": "x",
          "y0": 0,
          "y1": 1,
          "yref": "paper"
         },
         {
          "line": {
           "color": "red",
           "dash": "dot",
           "width": 0.6
          },
          "name": "break up times",
          "type": "line",
          "x0": "1987-05-05T15:11:00",
          "x1": "1987-05-05T15:11:00",
          "xref": "x",
          "y0": 0,
          "y1": 1,
          "yref": "paper"
         },
         {
          "line": {
           "color": "red",
           "dash": "dot",
           "width": 0.6
          },
          "name": "break up times",
          "type": "line",
          "x0": "1988-04-27T09:15:00",
          "x1": "1988-04-27T09:15:00",
          "xref": "x",
          "y0": 0,
          "y1": 1,
          "yref": "paper"
         },
         {
          "line": {
           "color": "red",
           "dash": "dot",
           "width": 0.6
          },
          "name": "break up times",
          "type": "line",
          "x0": "1989-05-01T20:14:00",
          "x1": "1989-05-01T20:14:00",
          "xref": "x",
          "y0": 0,
          "y1": 1,
          "yref": "paper"
         },
         {
          "line": {
           "color": "red",
           "dash": "dot",
           "width": 0.6
          },
          "name": "break up times",
          "type": "line",
          "x0": "1990-04-24T17:19:00",
          "x1": "1990-04-24T17:19:00",
          "xref": "x",
          "y0": 0,
          "y1": 1,
          "yref": "paper"
         },
         {
          "line": {
           "color": "red",
           "dash": "dot",
           "width": 0.6
          },
          "name": "break up times",
          "type": "line",
          "x0": "1991-05-01T00:04:00",
          "x1": "1991-05-01T00:04:00",
          "xref": "x",
          "y0": 0,
          "y1": 1,
          "yref": "paper"
         },
         {
          "line": {
           "color": "red",
           "dash": "dot",
           "width": 0.6
          },
          "name": "break up times",
          "type": "line",
          "x0": "1992-05-14T06:26:00",
          "x1": "1992-05-14T06:26:00",
          "xref": "x",
          "y0": 0,
          "y1": 1,
          "yref": "paper"
         },
         {
          "line": {
           "color": "red",
           "dash": "dot",
           "width": 0.6
          },
          "name": "break up times",
          "type": "line",
          "x0": "1993-04-23T13:01:00",
          "x1": "1993-04-23T13:01:00",
          "xref": "x",
          "y0": 0,
          "y1": 1,
          "yref": "paper"
         },
         {
          "line": {
           "color": "red",
           "dash": "dot",
           "width": 0.6
          },
          "name": "break up times",
          "type": "line",
          "x0": "1994-04-29T23:01:00",
          "x1": "1994-04-29T23:01:00",
          "xref": "x",
          "y0": 0,
          "y1": 1,
          "yref": "paper"
         },
         {
          "line": {
           "color": "red",
           "dash": "dot",
           "width": 0.6
          },
          "name": "break up times",
          "type": "line",
          "x0": "1995-04-26T13:22:00",
          "x1": "1995-04-26T13:22:00",
          "xref": "x",
          "y0": 0,
          "y1": 1,
          "yref": "paper"
         },
         {
          "line": {
           "color": "red",
           "dash": "dot",
           "width": 0.6
          },
          "name": "break up times",
          "type": "line",
          "x0": "1996-05-05T12:32:00",
          "x1": "1996-05-05T12:32:00",
          "xref": "x",
          "y0": 0,
          "y1": 1,
          "yref": "paper"
         },
         {
          "line": {
           "color": "red",
           "dash": "dot",
           "width": 0.6
          },
          "name": "break up times",
          "type": "line",
          "x0": "1997-04-30T10:28:00",
          "x1": "1997-04-30T10:28:00",
          "xref": "x",
          "y0": 0,
          "y1": 1,
          "yref": "paper"
         },
         {
          "line": {
           "color": "red",
           "dash": "dot",
           "width": 0.6
          },
          "name": "break up times",
          "type": "line",
          "x0": "1998-04-20T16:54:00",
          "x1": "1998-04-20T16:54:00",
          "xref": "x",
          "y0": 0,
          "y1": 1,
          "yref": "paper"
         },
         {
          "line": {
           "color": "red",
           "dash": "dot",
           "width": 0.6
          },
          "name": "break up times",
          "type": "line",
          "x0": "1999-04-29T21:47:00",
          "x1": "1999-04-29T21:47:00",
          "xref": "x",
          "y0": 0,
          "y1": 1,
          "yref": "paper"
         },
         {
          "line": {
           "color": "red",
           "dash": "dot",
           "width": 0.6
          },
          "name": "break up times",
          "type": "line",
          "x0": "2000-05-01T10:47:00",
          "x1": "2000-05-01T10:47:00",
          "xref": "x",
          "y0": 0,
          "y1": 1,
          "yref": "paper"
         },
         {
          "line": {
           "color": "red",
           "dash": "dot",
           "width": 0.6
          },
          "name": "break up times",
          "type": "line",
          "x0": "2001-05-08T13:00:00",
          "x1": "2001-05-08T13:00:00",
          "xref": "x",
          "y0": 0,
          "y1": 1,
          "yref": "paper"
         },
         {
          "line": {
           "color": "red",
           "dash": "dot",
           "width": 0.6
          },
          "name": "break up times",
          "type": "line",
          "x0": "2002-05-07T21:27:00",
          "x1": "2002-05-07T21:27:00",
          "xref": "x",
          "y0": 0,
          "y1": 1,
          "yref": "paper"
         },
         {
          "line": {
           "color": "red",
           "dash": "dot",
           "width": 0.6
          },
          "name": "break up times",
          "type": "line",
          "x0": "2003-04-29T18:22:00",
          "x1": "2003-04-29T18:22:00",
          "xref": "x",
          "y0": 0,
          "y1": 1,
          "yref": "paper"
         },
         {
          "line": {
           "color": "red",
           "dash": "dot",
           "width": 0.6
          },
          "name": "break up times",
          "type": "line",
          "x0": "2004-04-24T14:16:00",
          "x1": "2004-04-24T14:16:00",
          "xref": "x",
          "y0": 0,
          "y1": 1,
          "yref": "paper"
         },
         {
          "line": {
           "color": "red",
           "dash": "dot",
           "width": 0.6
          },
          "name": "break up times",
          "type": "line",
          "x0": "2005-04-28T12:01:00",
          "x1": "2005-04-28T12:01:00",
          "xref": "x",
          "y0": 0,
          "y1": 1,
          "yref": "paper"
         },
         {
          "line": {
           "color": "red",
           "dash": "dot",
           "width": 0.6
          },
          "name": "break up times",
          "type": "line",
          "x0": "2006-05-02T17:29:00",
          "x1": "2006-05-02T17:29:00",
          "xref": "x",
          "y0": 0,
          "y1": 1,
          "yref": "paper"
         },
         {
          "line": {
           "color": "red",
           "dash": "dot",
           "width": 0.6
          },
          "name": "break up times",
          "type": "line",
          "x0": "2007-04-27T15:47:00",
          "x1": "2007-04-27T15:47:00",
          "xref": "x",
          "y0": 0,
          "y1": 1,
          "yref": "paper"
         },
         {
          "line": {
           "color": "red",
           "dash": "dot",
           "width": 0.6
          },
          "name": "break up times",
          "type": "line",
          "x0": "2008-05-06T22:53:00",
          "x1": "2008-05-06T22:53:00",
          "xref": "x",
          "y0": 0,
          "y1": 1,
          "yref": "paper"
         },
         {
          "line": {
           "color": "red",
           "dash": "dot",
           "width": 0.6
          },
          "name": "break up times",
          "type": "line",
          "x0": "2009-05-01T20:41:00",
          "x1": "2009-05-01T20:41:00",
          "xref": "x",
          "y0": 0,
          "y1": 1,
          "yref": "paper"
         },
         {
          "line": {
           "color": "red",
           "dash": "dot",
           "width": 0.6
          },
          "name": "break up times",
          "type": "line",
          "x0": "2010-04-29T09:06:00",
          "x1": "2010-04-29T09:06:00",
          "xref": "x",
          "y0": 0,
          "y1": 1,
          "yref": "paper"
         },
         {
          "line": {
           "color": "red",
           "dash": "dot",
           "width": 0.6
          },
          "name": "break up times",
          "type": "line",
          "x0": "2011-05-04T16:24:00",
          "x1": "2011-05-04T16:24:00",
          "xref": "x",
          "y0": 0,
          "y1": 1,
          "yref": "paper"
         },
         {
          "line": {
           "color": "red",
           "dash": "dot",
           "width": 0.6
          },
          "name": "break up times",
          "type": "line",
          "x0": "2012-04-23T19:39:00",
          "x1": "2012-04-23T19:39:00",
          "xref": "x",
          "y0": 0,
          "y1": 1,
          "yref": "paper"
         },
         {
          "line": {
           "color": "red",
           "dash": "dot",
           "width": 0.6
          },
          "name": "break up times",
          "type": "line",
          "x0": "2013-05-20T14:41:00",
          "x1": "2013-05-20T14:41:00",
          "xref": "x",
          "y0": 0,
          "y1": 1,
          "yref": "paper"
         },
         {
          "line": {
           "color": "red",
           "dash": "dot",
           "width": 0.6
          },
          "name": "break up times",
          "type": "line",
          "x0": "2014-04-25T15:48:00",
          "x1": "2014-04-25T15:48:00",
          "xref": "x",
          "y0": 0,
          "y1": 1,
          "yref": "paper"
         },
         {
          "line": {
           "color": "red",
           "dash": "dot",
           "width": 0.6
          },
          "name": "break up times",
          "type": "line",
          "x0": "2015-04-24T14:25:00",
          "x1": "2015-04-24T14:25:00",
          "xref": "x",
          "y0": 0,
          "y1": 1,
          "yref": "paper"
         },
         {
          "line": {
           "color": "red",
           "dash": "dot",
           "width": 0.6
          },
          "name": "break up times",
          "type": "line",
          "x0": "2016-04-23T15:39:00",
          "x1": "2016-04-23T15:39:00",
          "xref": "x",
          "y0": 0,
          "y1": 1,
          "yref": "paper"
         },
         {
          "line": {
           "color": "red",
           "dash": "dot",
           "width": 0.6
          },
          "name": "break up times",
          "type": "line",
          "x0": "2017-05-01T12:00:00",
          "x1": "2017-05-01T12:00:00",
          "xref": "x",
          "y0": 0,
          "y1": 1,
          "yref": "paper"
         },
         {
          "line": {
           "color": "red",
           "dash": "dot",
           "width": 0.6
          },
          "name": "break up times",
          "type": "line",
          "x0": "2018-05-01T13:18:00",
          "x1": "2018-05-01T13:18:00",
          "xref": "x",
          "y0": 0,
          "y1": 1,
          "yref": "paper"
         },
         {
          "line": {
           "color": "red",
           "dash": "dot",
           "width": 0.6
          },
          "name": "break up times",
          "type": "line",
          "x0": "2019-04-14T12:21:00",
          "x1": "2019-04-14T12:21:00",
          "xref": "x",
          "y0": 0,
          "y1": 1,
          "yref": "paper"
         },
         {
          "line": {
           "color": "red",
           "dash": "dot",
           "width": 0.6
          },
          "name": "break up times",
          "type": "line",
          "x0": "2020-04-28T00:56:00",
          "x1": "2020-04-28T00:56:00",
          "xref": "x",
          "y0": 0,
          "y1": 1,
          "yref": "paper"
         },
         {
          "line": {
           "color": "red",
           "dash": "dot",
           "width": 0.6
          },
          "name": "break up times",
          "type": "line",
          "x0": "2021-05-01T00:50:00",
          "x1": "2021-05-01T00:50:00",
          "xref": "x",
          "y0": 0,
          "y1": 1,
          "yref": "paper"
         },
         {
          "line": {
           "color": "red",
           "dash": "dot",
           "width": 0.6
          },
          "name": "break up times",
          "type": "line",
          "x0": "2022-05-02T18:27:00",
          "x1": "2022-05-02T18:27:00",
          "xref": "x",
          "y0": 0,
          "y1": 1,
          "yref": "paper"
         },
         {
          "line": {
           "color": "red",
           "dash": "dot",
           "width": 0.6
          },
          "name": "break up times",
          "type": "line",
          "x0": "2023-05-08T16:01:00",
          "x1": "2023-05-08T16:01:00",
          "xref": "x",
          "y0": 0,
          "y1": 1,
          "yref": "paper"
         }
        ],
        "template": {
         "data": {
          "bar": [
           {
            "error_x": {
             "color": "#2a3f5f"
            },
            "error_y": {
             "color": "#2a3f5f"
            },
            "marker": {
             "line": {
              "color": "#E5ECF6",
              "width": 0.5
             },
             "pattern": {
              "fillmode": "overlay",
              "size": 10,
              "solidity": 0.2
             }
            },
            "type": "bar"
           }
          ],
          "barpolar": [
           {
            "marker": {
             "line": {
              "color": "#E5ECF6",
              "width": 0.5
             },
             "pattern": {
              "fillmode": "overlay",
              "size": 10,
              "solidity": 0.2
             }
            },
            "type": "barpolar"
           }
          ],
          "carpet": [
           {
            "aaxis": {
             "endlinecolor": "#2a3f5f",
             "gridcolor": "white",
             "linecolor": "white",
             "minorgridcolor": "white",
             "startlinecolor": "#2a3f5f"
            },
            "baxis": {
             "endlinecolor": "#2a3f5f",
             "gridcolor": "white",
             "linecolor": "white",
             "minorgridcolor": "white",
             "startlinecolor": "#2a3f5f"
            },
            "type": "carpet"
           }
          ],
          "choropleth": [
           {
            "colorbar": {
             "outlinewidth": 0,
             "ticks": ""
            },
            "type": "choropleth"
           }
          ],
          "contour": [
           {
            "colorbar": {
             "outlinewidth": 0,
             "ticks": ""
            },
            "colorscale": [
             [
              0,
              "#0d0887"
             ],
             [
              0.1111111111111111,
              "#46039f"
             ],
             [
              0.2222222222222222,
              "#7201a8"
             ],
             [
              0.3333333333333333,
              "#9c179e"
             ],
             [
              0.4444444444444444,
              "#bd3786"
             ],
             [
              0.5555555555555556,
              "#d8576b"
             ],
             [
              0.6666666666666666,
              "#ed7953"
             ],
             [
              0.7777777777777778,
              "#fb9f3a"
             ],
             [
              0.8888888888888888,
              "#fdca26"
             ],
             [
              1,
              "#f0f921"
             ]
            ],
            "type": "contour"
           }
          ],
          "contourcarpet": [
           {
            "colorbar": {
             "outlinewidth": 0,
             "ticks": ""
            },
            "type": "contourcarpet"
           }
          ],
          "heatmap": [
           {
            "colorbar": {
             "outlinewidth": 0,
             "ticks": ""
            },
            "colorscale": [
             [
              0,
              "#0d0887"
             ],
             [
              0.1111111111111111,
              "#46039f"
             ],
             [
              0.2222222222222222,
              "#7201a8"
             ],
             [
              0.3333333333333333,
              "#9c179e"
             ],
             [
              0.4444444444444444,
              "#bd3786"
             ],
             [
              0.5555555555555556,
              "#d8576b"
             ],
             [
              0.6666666666666666,
              "#ed7953"
             ],
             [
              0.7777777777777778,
              "#fb9f3a"
             ],
             [
              0.8888888888888888,
              "#fdca26"
             ],
             [
              1,
              "#f0f921"
             ]
            ],
            "type": "heatmap"
           }
          ],
          "heatmapgl": [
           {
            "colorbar": {
             "outlinewidth": 0,
             "ticks": ""
            },
            "colorscale": [
             [
              0,
              "#0d0887"
             ],
             [
              0.1111111111111111,
              "#46039f"
             ],
             [
              0.2222222222222222,
              "#7201a8"
             ],
             [
              0.3333333333333333,
              "#9c179e"
             ],
             [
              0.4444444444444444,
              "#bd3786"
             ],
             [
              0.5555555555555556,
              "#d8576b"
             ],
             [
              0.6666666666666666,
              "#ed7953"
             ],
             [
              0.7777777777777778,
              "#fb9f3a"
             ],
             [
              0.8888888888888888,
              "#fdca26"
             ],
             [
              1,
              "#f0f921"
             ]
            ],
            "type": "heatmapgl"
           }
          ],
          "histogram": [
           {
            "marker": {
             "pattern": {
              "fillmode": "overlay",
              "size": 10,
              "solidity": 0.2
             }
            },
            "type": "histogram"
           }
          ],
          "histogram2d": [
           {
            "colorbar": {
             "outlinewidth": 0,
             "ticks": ""
            },
            "colorscale": [
             [
              0,
              "#0d0887"
             ],
             [
              0.1111111111111111,
              "#46039f"
             ],
             [
              0.2222222222222222,
              "#7201a8"
             ],
             [
              0.3333333333333333,
              "#9c179e"
             ],
             [
              0.4444444444444444,
              "#bd3786"
             ],
             [
              0.5555555555555556,
              "#d8576b"
             ],
             [
              0.6666666666666666,
              "#ed7953"
             ],
             [
              0.7777777777777778,
              "#fb9f3a"
             ],
             [
              0.8888888888888888,
              "#fdca26"
             ],
             [
              1,
              "#f0f921"
             ]
            ],
            "type": "histogram2d"
           }
          ],
          "histogram2dcontour": [
           {
            "colorbar": {
             "outlinewidth": 0,
             "ticks": ""
            },
            "colorscale": [
             [
              0,
              "#0d0887"
             ],
             [
              0.1111111111111111,
              "#46039f"
             ],
             [
              0.2222222222222222,
              "#7201a8"
             ],
             [
              0.3333333333333333,
              "#9c179e"
             ],
             [
              0.4444444444444444,
              "#bd3786"
             ],
             [
              0.5555555555555556,
              "#d8576b"
             ],
             [
              0.6666666666666666,
              "#ed7953"
             ],
             [
              0.7777777777777778,
              "#fb9f3a"
             ],
             [
              0.8888888888888888,
              "#fdca26"
             ],
             [
              1,
              "#f0f921"
             ]
            ],
            "type": "histogram2dcontour"
           }
          ],
          "mesh3d": [
           {
            "colorbar": {
             "outlinewidth": 0,
             "ticks": ""
            },
            "type": "mesh3d"
           }
          ],
          "parcoords": [
           {
            "line": {
             "colorbar": {
              "outlinewidth": 0,
              "ticks": ""
             }
            },
            "type": "parcoords"
           }
          ],
          "pie": [
           {
            "automargin": true,
            "type": "pie"
           }
          ],
          "scatter": [
           {
            "fillpattern": {
             "fillmode": "overlay",
             "size": 10,
             "solidity": 0.2
            },
            "type": "scatter"
           }
          ],
          "scatter3d": [
           {
            "line": {
             "colorbar": {
              "outlinewidth": 0,
              "ticks": ""
             }
            },
            "marker": {
             "colorbar": {
              "outlinewidth": 0,
              "ticks": ""
             }
            },
            "type": "scatter3d"
           }
          ],
          "scattercarpet": [
           {
            "marker": {
             "colorbar": {
              "outlinewidth": 0,
              "ticks": ""
             }
            },
            "type": "scattercarpet"
           }
          ],
          "scattergeo": [
           {
            "marker": {
             "colorbar": {
              "outlinewidth": 0,
              "ticks": ""
             }
            },
            "type": "scattergeo"
           }
          ],
          "scattergl": [
           {
            "marker": {
             "colorbar": {
              "outlinewidth": 0,
              "ticks": ""
             }
            },
            "type": "scattergl"
           }
          ],
          "scattermapbox": [
           {
            "marker": {
             "colorbar": {
              "outlinewidth": 0,
              "ticks": ""
             }
            },
            "type": "scattermapbox"
           }
          ],
          "scatterpolar": [
           {
            "marker": {
             "colorbar": {
              "outlinewidth": 0,
              "ticks": ""
             }
            },
            "type": "scatterpolar"
           }
          ],
          "scatterpolargl": [
           {
            "marker": {
             "colorbar": {
              "outlinewidth": 0,
              "ticks": ""
             }
            },
            "type": "scatterpolargl"
           }
          ],
          "scatterternary": [
           {
            "marker": {
             "colorbar": {
              "outlinewidth": 0,
              "ticks": ""
             }
            },
            "type": "scatterternary"
           }
          ],
          "surface": [
           {
            "colorbar": {
             "outlinewidth": 0,
             "ticks": ""
            },
            "colorscale": [
             [
              0,
              "#0d0887"
             ],
             [
              0.1111111111111111,
              "#46039f"
             ],
             [
              0.2222222222222222,
              "#7201a8"
             ],
             [
              0.3333333333333333,
              "#9c179e"
             ],
             [
              0.4444444444444444,
              "#bd3786"
             ],
             [
              0.5555555555555556,
              "#d8576b"
             ],
             [
              0.6666666666666666,
              "#ed7953"
             ],
             [
              0.7777777777777778,
              "#fb9f3a"
             ],
             [
              0.8888888888888888,
              "#fdca26"
             ],
             [
              1,
              "#f0f921"
             ]
            ],
            "type": "surface"
           }
          ],
          "table": [
           {
            "cells": {
             "fill": {
              "color": "#EBF0F8"
             },
             "line": {
              "color": "white"
             }
            },
            "header": {
             "fill": {
              "color": "#C8D4E3"
             },
             "line": {
              "color": "white"
             }
            },
            "type": "table"
           }
          ]
         },
         "layout": {
          "annotationdefaults": {
           "arrowcolor": "#2a3f5f",
           "arrowhead": 0,
           "arrowwidth": 1
          },
          "autotypenumbers": "strict",
          "coloraxis": {
           "colorbar": {
            "outlinewidth": 0,
            "ticks": ""
           }
          },
          "colorscale": {
           "diverging": [
            [
             0,
             "#8e0152"
            ],
            [
             0.1,
             "#c51b7d"
            ],
            [
             0.2,
             "#de77ae"
            ],
            [
             0.3,
             "#f1b6da"
            ],
            [
             0.4,
             "#fde0ef"
            ],
            [
             0.5,
             "#f7f7f7"
            ],
            [
             0.6,
             "#e6f5d0"
            ],
            [
             0.7,
             "#b8e186"
            ],
            [
             0.8,
             "#7fbc41"
            ],
            [
             0.9,
             "#4d9221"
            ],
            [
             1,
             "#276419"
            ]
           ],
           "sequential": [
            [
             0,
             "#0d0887"
            ],
            [
             0.1111111111111111,
             "#46039f"
            ],
            [
             0.2222222222222222,
             "#7201a8"
            ],
            [
             0.3333333333333333,
             "#9c179e"
            ],
            [
             0.4444444444444444,
             "#bd3786"
            ],
            [
             0.5555555555555556,
             "#d8576b"
            ],
            [
             0.6666666666666666,
             "#ed7953"
            ],
            [
             0.7777777777777778,
             "#fb9f3a"
            ],
            [
             0.8888888888888888,
             "#fdca26"
            ],
            [
             1,
             "#f0f921"
            ]
           ],
           "sequentialminus": [
            [
             0,
             "#0d0887"
            ],
            [
             0.1111111111111111,
             "#46039f"
            ],
            [
             0.2222222222222222,
             "#7201a8"
            ],
            [
             0.3333333333333333,
             "#9c179e"
            ],
            [
             0.4444444444444444,
             "#bd3786"
            ],
            [
             0.5555555555555556,
             "#d8576b"
            ],
            [
             0.6666666666666666,
             "#ed7953"
            ],
            [
             0.7777777777777778,
             "#fb9f3a"
            ],
            [
             0.8888888888888888,
             "#fdca26"
            ],
            [
             1,
             "#f0f921"
            ]
           ]
          },
          "colorway": [
           "#636efa",
           "#EF553B",
           "#00cc96",
           "#ab63fa",
           "#FFA15A",
           "#19d3f3",
           "#FF6692",
           "#B6E880",
           "#FF97FF",
           "#FECB52"
          ],
          "font": {
           "color": "#2a3f5f"
          },
          "geo": {
           "bgcolor": "white",
           "lakecolor": "white",
           "landcolor": "#E5ECF6",
           "showlakes": true,
           "showland": true,
           "subunitcolor": "white"
          },
          "hoverlabel": {
           "align": "left"
          },
          "hovermode": "closest",
          "mapbox": {
           "style": "light"
          },
          "paper_bgcolor": "white",
          "plot_bgcolor": "#E5ECF6",
          "polar": {
           "angularaxis": {
            "gridcolor": "white",
            "linecolor": "white",
            "ticks": ""
           },
           "bgcolor": "#E5ECF6",
           "radialaxis": {
            "gridcolor": "white",
            "linecolor": "white",
            "ticks": ""
           }
          },
          "scene": {
           "xaxis": {
            "backgroundcolor": "#E5ECF6",
            "gridcolor": "white",
            "gridwidth": 2,
            "linecolor": "white",
            "showbackground": true,
            "ticks": "",
            "zerolinecolor": "white"
           },
           "yaxis": {
            "backgroundcolor": "#E5ECF6",
            "gridcolor": "white",
            "gridwidth": 2,
            "linecolor": "white",
            "showbackground": true,
            "ticks": "",
            "zerolinecolor": "white"
           },
           "zaxis": {
            "backgroundcolor": "#E5ECF6",
            "gridcolor": "white",
            "gridwidth": 2,
            "linecolor": "white",
            "showbackground": true,
            "ticks": "",
            "zerolinecolor": "white"
           }
          },
          "shapedefaults": {
           "line": {
            "color": "#2a3f5f"
           }
          },
          "ternary": {
           "aaxis": {
            "gridcolor": "white",
            "linecolor": "white",
            "ticks": ""
           },
           "baxis": {
            "gridcolor": "white",
            "linecolor": "white",
            "ticks": ""
           },
           "bgcolor": "#E5ECF6",
           "caxis": {
            "gridcolor": "white",
            "linecolor": "white",
            "ticks": ""
           }
          },
          "title": {
           "x": 0.05
          },
          "xaxis": {
           "automargin": true,
           "gridcolor": "white",
           "linecolor": "white",
           "ticks": "",
           "title": {
            "standoff": 15
           },
           "zerolinecolor": "white",
           "zerolinewidth": 2
          },
          "yaxis": {
           "automargin": true,
           "gridcolor": "white",
           "linecolor": "white",
           "ticks": "",
           "title": {
            "standoff": 15
           },
           "zerolinecolor": "white",
           "zerolinewidth": 2
          }
         }
        },
        "title": {
         "text": "Break up times & Global Variables at Tenana River-Nenana, AK with break-up dates"
        },
        "xaxis": {
         "rangeselector": {
          "buttons": [
           {
            "count": 1,
            "label": "1m",
            "step": "month",
            "stepmode": "backward"
           },
           {
            "count": 6,
            "label": "6m",
            "step": "month",
            "stepmode": "backward"
           },
           {
            "count": 1,
            "label": "YTD",
            "step": "year",
            "stepmode": "todate"
           },
           {
            "count": 1,
            "label": "1y",
            "step": "year",
            "stepmode": "backward"
           },
           {
            "step": "all"
           }
          ]
         },
         "rangeslider": {
          "visible": true
         },
         "title": {
          "text": "Date"
         },
         "type": "date"
        },
        "yaxis": {
         "anchor": "x",
         "domain": [
          0,
          1
         ],
         "linecolor": "black",
         "mirror": true,
         "overlaying": "y",
         "showline": true,
         "side": "left",
         "tickmode": "auto",
         "ticks": "",
         "title": {
          "font": {
           "color": "black"
          },
          "text": "Nenana"
         },
         "type": "linear",
         "zeroline": false
        }
       }
      }
     },
     "metadata": {},
     "output_type": "display_data"
    }
   ],
   "source": [
    "column_groups = {\n",
    "    'Nenana': ['IceThickness [cm]']}\n",
    "\n",
    "# Plot the specified columns with default y_domains and focus on a specific date\n",
    "plot_columns_interactive(Data, column_groups, title=\"Break up times & Global Variables at Tenana River-Nenana, AK with break-up dates\")"
   ]
  },
  {
   "cell_type": "markdown",
   "metadata": {},
   "source": [
    "## Estimating gradients\n"
   ]
  },
  {
   "cell_type": "code",
   "execution_count": 5,
   "metadata": {},
   "outputs": [],
   "source": [
    "def finite_differences(series):\n",
    "    \"\"\"Compute forward, central, and backward differences using the step size as days between measurement\n",
    "    \"\"\"\n",
    "   \n",
    "    days_forward = (series.index.to_series().shift(-1) - series.index.to_series()).dt.days\n",
    "    days_backward = (series.index.to_series() - series.index.to_series().shift(1)).dt.days\n",
    "    \n",
    "    # Forward difference: (f(x+h) - f(x)) / h, where h is days_forward\n",
    "    forward = (series.shift(-1) - series) / days_forward\n",
    "\n",
    "    # Backward difference: (f(x) - f(x-h)) / h, where h is days_backward\n",
    "    backward = (series - series.shift(1)) / days_backward\n",
    "\n",
    "    # Central difference: (f(x+h) - f(x-h)) / (h_forward + h_backward)\n",
    "    central = (series.shift(-1) - series.shift(1)) / (days_forward + days_backward)\n",
    "    \n",
    "    # fixing start/end points\n",
    "    forward.iloc[-1] = np.nan  \n",
    "    backward.iloc[0] = np.nan  \n",
    "\n",
    "    return pd.DataFrame({'forward': forward, 'backward': backward, 'central': central})\n",
    "\n"
   ]
  },
  {
   "cell_type": "code",
   "execution_count": 6,
   "metadata": {},
   "outputs": [],
   "source": [
    "result = Ice_thickness.groupby(Ice_thickness.index.year).apply(lambda x: finite_differences(x))\n",
    "result = result.reset_index(level=0, drop=True)"
   ]
  },
  {
   "cell_type": "markdown",
   "metadata": {},
   "source": [
    "if we were to implement other methods, we simply create the function and  pass  it in the `apply`. \n",
    "\n",
    "For example, using the interpolation from [this notebook](https://github.com/iceclassic/mude/blob/main/book/Part_1/Resampling_%26_Interpolation.ipynb) we could either compute the analytical gradient of the fitted spline, or re-apply the same method above on the interpolated time-series.\n"
   ]
  },
  {
   "cell_type": "markdown",
   "metadata": {},
   "source": [
    "### Ploting the gradients,\n",
    "We can easily change the `xlim` to focus on specific years "
   ]
  },
  {
   "cell_type": "code",
   "execution_count": 27,
   "metadata": {},
   "outputs": [
    {
     "data": {
      "image/png": "[encoded data removed]",
      "text/plain": [
       "<Figure size 2000x500 with 2 Axes>"
      ]
     },
     "metadata": {},
     "output_type": "display_data"
    }
   ],
   "source": [
    "fig, ax1 = plt.subplots(figsize=(20, 5))\n",
    "\n",
    "\n",
    "ax1.plot(result['forward'], label='Forward', color='red')\n",
    "ax1.plot(result['backward'], label='Backward', color='green')\n",
    "ax1.plot(result['central'], label='Central', color='blue')\n",
    "\n",
    "ax1.set_ylabel('Gradient [cm/day]')\n",
    "ax1.set_xlabel('Date')\n",
    "ax1.set_title('Ice Thickness Gradients')\n",
    "ax1.grid()\n",
    "ax1.set_ylim([-5, 4])\n",
    "\n",
    "# change the x-axis to show  a selscted range\n",
    "ax1.set_xlim(pd.Timestamp('2021-01-01'), pd.Timestamp('2021-05-30'))\n",
    "ax1.legend(loc='upper left')\n",
    "\n",
    "ax2 = ax1.twinx()\n",
    "ax2.scatter(Ice_thickness.index, Ice_thickness, color='black', alpha=0.4, label='Ice Thickness')\n",
    "ax2.plot(Ice_thickness.index, Ice_thickness, color='black', alpha=0.4)\n",
    "ax2.set_ylabel('Ice Thickness [cm]')\n",
    "ax2.set_ylim([0, 140])\n",
    "\n",
    "\n",
    "lines, labels = ax1.get_legend_handles_labels()\n",
    "lines2, labels2 = ax2.get_legend_handles_labels()\n",
    "ax2.legend(lines + lines2, labels + labels2, loc='upper right')\n",
    "\n",
    "plt.show()"
   ]
  },
  {
   "cell_type": "markdown",
   "metadata": {},
   "source": [
    "### Plotting the gradient on top of the scatter points\n",
    "\n",
    "- changing the length in the function changes the size of the 'line'that is represented f the gradient at that point"
   ]
  },
  {
   "cell_type": "code",
   "execution_count": 18,
   "metadata": {},
   "outputs": [
    {
     "data": {
      "image/png": "[encoded data removed]",
      "text/plain": [
       "<Figure size 2000x500 with 1 Axes>"
      ]
     },
     "metadata": {},
     "output_type": "display_data"
    }
   ],
   "source": [
    "def plot_gradients(ax, x, y, slopes, length=2, label=None, color='blue', label_flag=True):\n",
    "    \"\"\"Plot lines with slopes at given points on a plot.\"\"\"\n",
    "    for i in range(len(x)):\n",
    "        if np.isnan(slopes.iloc[i]):\n",
    "            continue  \n",
    "        dx = length  \n",
    "        dy = slopes.iloc[i] * dx  \n",
    "        # Only label the first line\n",
    "        ax.plot(\n",
    "            [x[i], x[i] + pd.Timedelta(days=dx)], \n",
    "            [y.iloc[i], y.iloc[i] + dy], \n",
    "            color=color, alpha=0.7, label=label if label_flag else \"\"\n",
    "        )\n",
    "        label_flag = False  #  shitty way to avoid the buf that the labels werent showing up\n",
    "\n",
    "# Plotting the results\n",
    "fig, ax = plt.subplots(figsize=(20, 5))\n",
    "\n",
    "ax.plot(Ice_thickness.index, Ice_thickness, label='Thickness', color='black', linestyle='--', alpha=0.4)\n",
    "ax.scatter(Ice_thickness.index, Ice_thickness, color='black', alpha=0.4)\n",
    "\n",
    "# Plotting gradients with a flag to control label plotting\n",
    "plot_gradients(ax, result.index, Ice_thickness, result['forward'], color='red', label='Forwards', label_flag=True)\n",
    "plot_gradients(ax, result.index, Ice_thickness, result['backward'], color='green', label='Backwards', label_flag=True)\n",
    "plot_gradients(ax, result.index, Ice_thickness, result['central'], color='blue', label='Central', label_flag=True)\n",
    "\n",
    "ax.legend()\n",
    "ax.set_title('Ice Thickness with Gradient')\n",
    "ax.set_xlabel('Date')\n",
    "ax.set_ylabel('Ice thickness [cm]')\n",
    "ax.grid(True)\n",
    "ax.set_xlim(pd.Timestamp('2021-01-01'), pd.Timestamp('2021-05-01'))\n",
    "ax.set_ylim([80, 120])\n",
    "plt.show()\n"
   ]
  },
  {
   "cell_type": "code",
   "execution_count": null,
   "metadata": {},
   "outputs": [],
   "source": []
  }
 ],
 "metadata": {
  "kernelspec": {
   "display_name": "iceclassic",
   "language": "python",
   "name": "python3"
  },
  "language_info": {
   "codemirror_mode": {
    "name": "ipython",
    "version": 3
   },
   "file_extension": ".py",
   "mimetype": "text/x-python",
   "name": "python",
   "nbconvert_exporter": "python",
   "pygments_lexer": "ipython3",
   "version": "3.11.9"
  }
 },
 "nbformat": 4,
 "nbformat_minor": 2
}
