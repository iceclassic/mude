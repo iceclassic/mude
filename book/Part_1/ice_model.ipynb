{
 "cells": [
  {
   "cell_type": "markdown",
   "metadata": {},
   "source": [
    "## OOP  & Simple models for ice break up\n",
    "An effective way to create and use python model is by using and Object Oriented Programming approach, in our case we will use the class `IceModel` to construct different models by instancing an object of the class.\n",
    "\n",
    "#### Preprocessing\n",
    "In part 1 of this interactive textbook you familiarized yourself with the **Nenana Ice Classic**  got introduce to a `DataFrame` containing environmental variables that may help to predict the break up, and learned some basic preprocessing techniques.\n",
    "\n",
    "For the moment let just consider the data associated only with the past break up dates, information that is stored in `'../data/BreakUpTimes.csv'`"
   ]
  },
  {
   "cell_type": "code",
   "execution_count": 33,
   "metadata": {},
   "outputs": [],
   "source": [
    "import pprint\n",
    "import funciones\n",
    "# loading the file\n",
    "ice_data = pd.read_csv('../../data/BreakUpTimes.csv')"
   ]
  },
  {
   "cell_type": "markdown",
   "metadata": {},
   "source": [
    "#### Basic Usage\n",
    "The first step to our simple OOP ice break model is to create an instance of the class."
   ]
  },
  {
   "cell_type": "code",
   "execution_count": 34,
   "metadata": {},
   "outputs": [],
   "source": [
    "Model_1=IceModel(ice_data)"
   ]
  },
  {
   "cell_type": "markdown",
   "metadata": {},
   "source": [
    "The class has simple methods that can be use to predict the ice break up, among these methods, the most important are \n",
    "- `.polyfit()`: Fits a polynomial equation to the data\n",
    "- `.distfit()` :  Fits a distribution to the data\n",
    "- `.predict()`: Uses the fits to predict a variable\n",
    "- `.get_prediction():`: Get the predicted date and time.  \n",
    "#### Prediction using `.polyfit()`\n",
    "The class and object are constructed such that  the predicted date and time of break up independent of each other. \n",
    "\n",
    "Lets start by using `.polyfit()` to predict the **day** of break up for the year 2025 using a simple linear regression. \n"
   ]
  },
  {
   "cell_type": "code",
   "execution_count": 35,
   "metadata": {},
   "outputs": [
    {
     "name": "stdout",
     "output_type": "stream",
     "text": [
      " \n",
      "-0.07984 x + 281.3\n"
     ]
    }
   ],
   "source": [
    "date_fit=Model_1.polyfit('year','day_of_year')               "
   ]
  },
  {
   "cell_type": "markdown",
   "metadata": {},
   "source": [
    "The result of the linear regression is \n",
    "$$\\text{dayofyear}=-0.07984*\\text{year}+281.3$$\n",
    "\n",
    "Meaning that the break-up date seems to be happening earlier each year. What could be the cause of this ? (mention that this is super simple and reductionist)\n",
    "\n",
    "\n",
    "The output of `.polyfit()` is a dictionary than contains multiple `keys` with details about the *fit*. "
   ]
  },
  {
   "cell_type": "code",
   "execution_count": 36,
   "metadata": {},
   "outputs": [
    {
     "name": "stdout",
     "output_type": "stream",
     "text": [
      "{'(x,y)=': ['year', 'day_of_year'],\n",
      " 'Poly fit coefficients': poly1d([-7.98409060e-02,  2.81267893e+02]),\n",
      " 'gofs metrics': {'2th norm': 61.703,\n",
      "                  'R2': 0.1378,\n",
      "                  'RMSE': 5.9651,\n",
      "                  'normalized RMSE': 0.1612,\n",
      "                  'r2': 0.146}}\n"
     ]
    }
   ],
   "source": [
    "pprint.pprint(date_fit)"
   ]
  },
  {
   "cell_type": "markdown",
   "metadata": {},
   "source": [
    "The details of the*fit* are stored in the attribute`.fit_day_of_year`, this attribute is then used to predict the break up **date**.  "
   ]
  },
  {
   "cell_type": "code",
   "execution_count": 37,
   "metadata": {},
   "outputs": [
    {
     "name": "stdout",
     "output_type": "stream",
     "text": [
      "{'(x,y)': ['year', 'day_of_year'], 'x_hat': 2025, 'y_hat': 119.5901}\n"
     ]
    }
   ],
   "source": [
    "fitted_date=Model_1.predict('day_of_year', 2025)                            \n",
    "print(fitted_date)"
   ]
  },
  {
   "cell_type": "markdown",
   "metadata": {},
   "source": [
    "Similarly, for the  break up **time**, we need to assign/create a fit associated with time and the use this fit to predict **time**. "
   ]
  },
  {
   "cell_type": "code",
   "execution_count": 38,
   "metadata": {},
   "outputs": [
    {
     "name": "stdout",
     "output_type": "stream",
     "text": [
      " \n",
      "0.01105 x - 7.39\n",
      "{'(x,y)': ['year', 'day_of_year'], 'x_hat': 2025, 'y_hat': 119.5901}\n"
     ]
    }
   ],
   "source": [
    "time_fit=Model_1.polyfit('year','time')                                            \n",
    "fitted_time=Model_1.predict('decimal_time',2025)                           # predicting using the fit\n",
    "print(fitted_date) "
   ]
  },
  {
   "cell_type": "markdown",
   "metadata": {},
   "source": [
    "You may have noticed that in the case of the predicted time, the method used 'decimal time'. The conversion is handled by the function `decimal_time()`\n",
    "\n",
    "$$ 18:30 \\equiv 18.5$$\n",
    "\n",
    "Naturally the predicted time of break up will also be in 'decimal time'. The method `get_prediction()` re-calls the method `.predict()` for the date and time (that is why the argument is a list of two x_variable)  gets the **datetime** of break up into a single formatted prediction (YYYY-MM-DD). \n"
   ]
  },
  {
   "cell_type": "code",
   "execution_count": 39,
   "metadata": {},
   "outputs": [
    {
     "name": "stdout",
     "output_type": "stream",
     "text": [
      "2025-04-29 14:59:00\n"
     ]
    }
   ],
   "source": [
    "Model_1.get_prediction([2025,2025])\n"
   ]
  },
  {
   "cell_type": "markdown",
   "metadata": {},
   "source": [
    "We can easily change the year we want to predict by simply passing another year"
   ]
  },
  {
   "cell_type": "code",
   "execution_count": 40,
   "metadata": {},
   "outputs": [
    {
     "name": "stdout",
     "output_type": "stream",
     "text": [
      "2030-04-29 15:02:00\n"
     ]
    }
   ],
   "source": [
    "Model_1.get_prediction([2030,2030])"
   ]
  },
  {
   "cell_type": "markdown",
   "metadata": {},
   "source": [
    "This prediction uses the same *fit* as we have not change them. We can easily do this by re-calling `.polyfit()`.\n",
    "\n",
    "For example we could predict the **date** for a specific year, then predict the **time** using a fit generated by the relationship between  the **dayofyear** of the break up and the **time** of break up \n"
   ]
  },
  {
   "cell_type": "code",
   "execution_count": 41,
   "metadata": {},
   "outputs": [
    {
     "name": "stdout",
     "output_type": "stream",
     "text": [
      " \n",
      "-0.07006 x + 23.06\n",
      "2030-04-29 14:43:00\n"
     ]
    }
   ],
   "source": [
    "time_fit_2=Model_1.polyfit('day_of_year','time') \n",
    "day_of_year_2025=pd.to_datetime('2025-04-29').dayofyear\n",
    "Model_1.get_prediction([2030,day_of_year_2025])"
   ]
  },
  {
   "cell_type": "markdown",
   "metadata": {},
   "source": [
    "The polynomial fit sugest that latter the break-up date the earlier the break-up time, however , the goodness-of-fit metrics are not **very_good**"
   ]
  },
  {
   "cell_type": "markdown",
   "metadata": {},
   "source": [
    "#### Prediction using `.Dist_fit()` \n",
    "\n",
    "The method `dist_fit1` is similar to `.polyfit()`, but instead of fitting a polynomial to the data, it fits a distribution to the data. The information of the distribution can then be passed on to `predict()` to predict the **datetime** of break up."
   ]
  },
  {
   "cell_type": "code",
   "execution_count": 42,
   "metadata": {},
   "outputs": [
    {
     "name": "stdout",
     "output_type": "stream",
     "text": [
      "Distribution: norm\n",
      "Parameters: (123.98130841121495, 6.454703868217181)\n"
     ]
    }
   ],
   "source": [
    "date_fit=Model_1.dist_fit('year','day_of_year',distribution='norm')         "
   ]
  },
  {
   "cell_type": "markdown",
   "metadata": {},
   "source": [
    "The detail fo the fitted distribution are stored in the same way"
   ]
  },
  {
   "cell_type": "code",
   "execution_count": 43,
   "metadata": {},
   "outputs": [
    {
     "name": "stdout",
     "output_type": "stream",
     "text": [
      "{'(x,y)=': ['year', 'day_of_year'],\n",
      " 'Fitted Distribution': 'norm',\n",
      " 'Goodness-of-Fit Metrics': {'KS Statistic': 0.0704, 'KS p-value': 0.6372},\n",
      " 'Parameters': array([123.9813,   6.4547]),\n",
      " 'confidence interval': 1.96}\n"
     ]
    }
   ],
   "source": [
    "pprint.pprint(date_fit)"
   ]
  },
  {
   "cell_type": "markdown",
   "metadata": {},
   "source": [
    "The method `predict()` and by consequence `get_prediction()` work a little bit different when we pass a fitted distriution instead of fitted equation,  it uses the expected value of the distribution as prediction. "
   ]
  },
  {
   "cell_type": "code",
   "execution_count": 44,
   "metadata": {},
   "outputs": [
    {
     "name": "stdout",
     "output_type": "stream",
     "text": [
      "{'(x,y)': ['year', 'day_of_year'], 'x_hat': 2025, 'y_hat': 123.9813, 'confidence_interval': (111.3301, 136.6325)}\n"
     ]
    }
   ],
   "source": [
    "fitted_date=Model_1.predict('day_of_year', 2025)                            \n",
    "print(fitted_date)"
   ]
  },
  {
   "cell_type": "code",
   "execution_count": 45,
   "metadata": {},
   "outputs": [
    {
     "name": "stdout",
     "output_type": "stream",
     "text": [
      "Distribution: norm\n",
      "Parameters: (14.378504672897197, 4.834644794331982)\n",
      "{'(x,y)': ['year', 'decimal_time'], 'x_hat': 2025, 'y_hat': 14.3785, 'confidence_interval': (4.9027, 23.8543)}\n"
     ]
    }
   ],
   "source": [
    "time_fit=Model_1.dist_fit('year','time')                                            \n",
    "fitted_time=Model_1.predict('decimal_time',2025)                           \n",
    "print(fitted_time)"
   ]
  },
  {
   "cell_type": "code",
   "execution_count": 46,
   "metadata": {},
   "outputs": [
    {
     "name": "stdout",
     "output_type": "stream",
     "text": [
      "2025-05-03 14:22:00\n"
     ]
    }
   ],
   "source": [
    "Model_1.get_prediction([2025,2025])\n"
   ]
  }
 ],
 "metadata": {
  "kernelspec": {
   "display_name": "iceclassic",
   "language": "python",
   "name": "python3"
  },
  "language_info": {
   "codemirror_mode": {
    "name": "ipython",
    "version": 3
   },
   "file_extension": ".py",
   "mimetype": "text/x-python",
   "name": "python",
   "nbconvert_exporter": "python",
   "pygments_lexer": "ipython3",
   "version": "3.11.9"
  }
 },
 "nbformat": 4,
 "nbformat_minor": 2
}
