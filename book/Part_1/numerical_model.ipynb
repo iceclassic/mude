{
 "cells": [
  {
   "cell_type": "markdown",
   "metadata": {},
   "source": [
    "# Numerical Modelling\n",
    "## Solving ODE- Stefan's equation\n",
    "\n",
    "### Solve ODE numerically and compute solution using numerical integration\n",
    "- Trap\n",
    "- Simpson\n",
    "- Gauss\n",
    "### Finite Difference\n",
    "- FE\n",
    "- BE\n",
    "- RK -family RK4\n",
    "- Advanced methods\n",
    "    - MultyStepMethods (P-C)\n",
    "    - Milne\n",
    "    - Adams\n",
    "    - Mention stability and stiff equation considertion\n",
    "\n",
    "\n",
    ">Do we really need this **advanced methods**  for our particular problem?  \n",
    "- Introduce basic flow-chart for choosing the method *a priori* \n",
    "\n",
    "\n",
    "## Limitations due to data?\n",
    " see next section"
   ]
  },
  {
   "cell_type": "markdown",
   "metadata": {},
   "source": []
  }
 ],
 "metadata": {
  "language_info": {
   "name": "python"
  }
 },
 "nbformat": 4,
 "nbformat_minor": 2
}
