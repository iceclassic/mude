{
 "cells": [
  {
   "cell_type": "markdown",
   "metadata": {},
   "source": [
    "# Numerical Modelling\n",
    "The main objective of our model is to predict the break-up of the ice, however, we don't have a lot of ice-related observations. Typically we have less that 10 measurement from the beginning of the year until break up, but we have extensive temperature data. Taking this thing into consideration we  are re-visiting Stefan's formula introduced in the first week of MUDE.\n",
    "\n",
    "Lets consider Ashton's formula an improved version of Stefan's formula [[1]](https://static1.1.sqspcdn.com/static/f/572109/18056158/1336339358653/thin+ice+growth.pdf?token=9mlCTJ8q6DFV3imaaSj54iHJW%2FQ%3D)\n",
    "\n",
    "$$\\frac{dH}{dt}=\\left(\\frac{1}{\\rho L}\\right)\\frac{T_m-T}{\\frac{h}{k}+\\frac{1}{H_{ia}}}$$\n",
    "\n",
    "\n",
    "(all value from Wolfram Alpha knowledge database)\n",
    "- Ice density - $\\rho=997.048 [kg/m^3] $\n",
    "- Ice heat of fusion(specific) -  $L=334000 [J/kg]$\n",
    "- Ice fusion temperature - $T_m=0[°C]$\n",
    "- Ice thermal conductivity - $k=0.598 [W/(m °C)]$\n",
    "- Heat transfer coeficient -$H_{ia}=20 [W/(m^2 °C)]$\n",
    "\n",
    "then, the ice thickness over time can be expressed as function of \n",
    "\n",
    "$$H=f(T,t)$$"
   ]
  },
  {
   "cell_type": "markdown",
   "metadata": {},
   "source": [
    "## Analytical Solution - Sympy"
   ]
  },
  {
   "cell_type": "code",
   "execution_count": 6,
   "metadata": {},
   "outputs": [
    {
     "data": {
      "text/latex": [
       "$\\displaystyle H{\\left(t \\right)} = \\frac{- k + \\frac{\\sqrt{L \\rho \\left(- 2 H_{ia}^{2} T k t + 2 H_{ia}^{2} T_{m} k t + L k^{2} \\rho\\right)}}{L \\rho}}{H_{ia}}$"
      ],
      "text/plain": [
       "Eq(H(t), (-k + sqrt(L*rho*(-2*H_ia**2*T*k*t + 2*H_ia**2*T_m*k*t + L*k**2*rho))/(L*rho))/H_ia)"
      ]
     },
     "execution_count": 6,
     "metadata": {},
     "output_type": "execute_result"
    }
   ],
   "source": [
    "import sympy as sp\n",
    "\n",
    "# Define the symbols\n",
    "t = sp.symbols('t')\n",
    "H = sp.Function('H')(t)\n",
    "H_0=0\n",
    "rho, L, T_m, T, h, k, H_ia = sp.symbols('rho L T_m T h k H_ia')\n",
    "\n",
    "# Define the ODE\n",
    "ode = sp.Eq(H.diff(t), (1/(rho * L)) * (T_m - T) / (H/k + 1/H_ia))\n",
    "\n",
    "ics = {H.subs(t, 0): H_0}\n",
    "\n",
    "solution_with_ics = sp.dsolve(ode, H, ics=ics)\n",
    "\n",
    "# Display the particular solution\n",
    "solution_with_ics\n"
   ]
  },
  {
   "cell_type": "markdown",
   "metadata": {},
   "source": [
    "\n",
    "## Analytical Solution - Sympy\n",
    "\n",
    "### Solve ODE numerically and compute solution using numerical integration\n",
    "- Trap\n",
    "- Simpson\n",
    "- Gauss\n",
    "### Finite Difference\n",
    "- FE\n",
    "- BE\n",
    "- RK -family RK4\n",
    "- Advanced methods\n",
    "    - MultyStepMethods (P-C)\n",
    "    - Milne\n",
    "    - Adams\n",
    "    - Mention stability and stiff equation considertion\n",
    "\n",
    "\n",
    ">Do we really need this **advanced methods**  for our particular problem?  \n",
    "- Introduce basic flow-chart for choosing the method *a priori* \n",
    "\n",
    "\n",
    "## Limitations due to data?\n",
    " see next section"
   ]
  }
 ],
 "metadata": {
  "kernelspec": {
   "display_name": "iceclassic",
   "language": "python",
   "name": "python3"
  },
  "language_info": {
   "codemirror_mode": {
    "name": "ipython",
    "version": 3
   },
   "file_extension": ".py",
   "mimetype": "text/x-python",
   "name": "python",
   "nbconvert_exporter": "python",
   "pygments_lexer": "ipython3",
   "version": "3.11.9"
  }
 },
 "nbformat": 4,
 "nbformat_minor": 2
}
