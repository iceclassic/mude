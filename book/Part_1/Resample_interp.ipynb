{
 "cells": [
  {
   "cell_type": "markdown",
   "metadata": {},
   "source": [
    "# Interpolation and Resampling\n",
    "In an ideal world we would have the same number of observation for each variable, sampled at the same frequency, but as we saw on the last section this is not the case. \n",
    "Naturally we have two options \n",
    "- Reduce the sampling frequency by mean of `resampling`\n",
    "- Increase the sampling frequency by means of `interpolate`  \n",
    "\n",
    "\n",
    "## Resampling\n",
    ":::{card} Exercise 1\n",
    "Read the `resample` method [documentation](https://pandas.pydata.org/pandas-docs/stable/reference/api/pandas.DataFrame.resample.html). For the temperature data,  compare the original data (daily observations) with the data resampled to 3 days, 5 days, a week and a month.\n",
    ":::"
   ]
  },
  {
   "cell_type": "code",
   "execution_count": null,
   "metadata": {},
   "outputs": [],
   "source": [
    "# from funciones import*\n",
    "# import pandas as pd\n",
    "# import numpy as np \n",
    "# import plotly.graph_objects as go\n",
    "# from importlib import reload\n",
    "\n",
    "# Data=pd.read_csv(\"../../Data/Time_series_DATA.txt\",skiprows=149,index_col=0)\n",
    "# # file3=import_data_browser('https://raw.githubusercontent.com/iceclassic/mude/develop_1/data/Time_series_DATA.txt')\n",
    "# # Data=pd.read_csv(file3,skiprows=149,index_col=0)\n",
    "# Data.index = Data.index.astype(str).str.split().str[0]\n",
    "# Data.index = pd.to_datetime(Data.index, format=\"%Y-%m-%d\")\n",
    "\n",
    "# Data = Data[(Data.index.year >= 1915) & (Data.index.year < 2024)]\n",
    "# Data=Data.drop(columns=['Days since start of year','Predicted ice thickness [m]','Noisy predicted ice thickness [m]'])\n"
   ]
  },
  {
   "cell_type": "code",
   "execution_count": null,
   "metadata": {},
   "outputs": [],
   "source": [
    "Temperature=Data['Regional: Air temperature [C]'] \n",
    "Temperature= Temperature[(Temperature.index.year >= 2020) & (Temperature.index.year < 2021)]\n",
    "Temp_w3=Temperature.resample('3D').mean()\n",
    "Temp_w5=Temperature.resample('5D').mean()\n",
    "Temp_w7=Temperature.resample('W').mean()\n",
    "Temp_w30=Temperature.resample('ME').mean()\n",
    "\n",
    "fig, axs = plt.subplots(figsize=(15, 3))\n",
    "plt.title('Re-sampling: Regional Air Temperature')\n",
    "plt.plot(Temperature, label='Daily')\n",
    "plt.plot(Temp_w3,label='3 days')\n",
    "plt.plot(Temp_w5,label='5 days')\n",
    "plt.plot(Temp_w7,label='Weekly')\n",
    "plt.plot(Temp_w30,label='Monthly')\n",
    "plt.ylabel(\"Temperature [C]\")\n",
    "plt.xlabel(\"Date\")\n",
    "plt.legend()"
   ]
  },
  {
   "cell_type": "markdown",
   "metadata": {},
   "source": [
    "We used the method `resample().mean`, but we can pass other potentially useful argument such as `.max`,`std`, `sum`, etc.\n",
    "> connection to de-clustering time in EVA\n",
    "\n",
    "For example, the rainfall data has daily observation but we might care about the precipitation of the total storm event that may last more than one day. \n",
    "\n",
    "::: {card} Exercise 2\n",
    "Resample the rainfall observation using the `.sum` method\n",
    ":::"
   ]
  },
  {
   "cell_type": "code",
   "execution_count": null,
   "metadata": {},
   "outputs": [],
   "source": [
    "Rain=Data['Nenana: Rainfall [mm]'] \n",
    "Rain= Rain[(Rain.index.year >= 2020) & (Rain.index.year < 2021)]\n",
    "Rain_d3=Rain.resample('3D').sum()\n",
    "Rain_d5=Rain.resample('5D').sum()\n",
    "Rain_d7=Rain.resample('7D').sum()\n",
    "Rain_d30=Rain.resample('ME').sum()\n",
    "\n",
    "fig, axs = plt.subplots(figsize=(15, 3))\n",
    "plt.title('Re-sampling: Nenana Rainfall -part1')\n",
    "plt.plot(Rain, label='Daily')\n",
    "plt.plot(Rain_d3,label='3 days')\n",
    "plt.ylabel(\"Rainfall [mm]\")\n",
    "plt.xlabel(\"Date\")\n",
    "plt.legend()\n",
    "plt.show()\n",
    "\n",
    "\n",
    "Rain=Data['Nenana: Rainfall [mm]'] \n",
    "Rain= Rain[(Rain.index.year >= 2015) & (Rain.index.year < 2021)]\n",
    "Rain_d3=Rain.resample('3D').sum()\n",
    "Rain_d15=Rain.resample('2W').sum()\n",
    "Rain_d30=Rain.resample('ME').sum()\n",
    "Rain_d365=Rain.resample('6ME').sum()\n",
    "\n",
    "fig, axs = plt.subplots(figsize=(15, 3))\n",
    "plt.title('Re-sampling: Nenana Rainfall -part2')\n",
    "plt.plot(Rain, label='Daily')\n",
    "plt.plot(Rain_d15,label='bi-weekly')\n",
    "plt.plot(Rain_d30,label='montly')\n",
    "plt.plot(Rain_d365,label='semi-annual')\n",
    "plt.ylabel(\"Rainfall [mm]\")\n",
    "plt.xlabel(\"Date\")\n",
    "plt.legend()\n",
    "plt.show()\n",
    "\n",
    "\n",
    "\n"
   ]
  },
  {
   "cell_type": "markdown",
   "metadata": {},
   "source": [
    "## Interpolating\n",
    "Interpolation in dataframes work a little bit different than in other languages, for example in `Matlab` we provide the *y_vector* , the *x_vector* and the *new_x_vector* such that by controlling the content of *new_x_vector* we can adjust the amount and location of the interpolated points. In dataframes, the location of the points is determined by the index of the original df.\n",
    "\n",
    "::: {card} Exercise 3\n",
    "\n",
    "Use the `interpolate` [method](https://pandas.pydata.org/pandas-docs/stable/reference/api/pandas.DataFrame.interpolate.html) to add daily observations to `Data['IceThickness [cm]' ]`\n",
    ":::\n"
   ]
  },
  {
   "cell_type": "code",
   "execution_count": null,
   "metadata": {},
   "outputs": [],
   "source": [
    "ICE_linear=Data['IceThickness [cm]'].interpolate(method='linear')\n",
    "\n",
    "fig, axs = plt.subplots(figsize=(15, 3))\n",
    "plt.title('Re-sampling: Nenana Rainfall -part2')\n",
    "plt.scatter(Data.index,Data['IceThickness [cm]'], label='observation',color='r')\n",
    "plt.plot(ICE_linear, label='linear interp')\n",
    "plt.ylabel(\"Rainfall [mm]\")\n",
    "plt.xlabel(\"Date\")\n",
    "plt.legend()\n",
    "plt.show()"
   ]
  }
 ],
 "metadata": {
  "kernelspec": {
   "display_name": "iceclassic",
   "language": "python",
   "name": "python3"
  },
  "language_info": {
   "codemirror_mode": {
    "name": "ipython",
    "version": 3
   },
   "file_extension": ".py",
   "mimetype": "text/x-python",
   "name": "python",
   "nbconvert_exporter": "python",
   "pygments_lexer": "ipython3",
   "version": "3.11.9"
  }
 },
 "nbformat": 4,
 "nbformat_minor": 2
}
